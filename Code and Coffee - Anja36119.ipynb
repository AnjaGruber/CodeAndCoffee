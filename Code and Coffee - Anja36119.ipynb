{
 "cells": [
  {
   "cell_type": "markdown",
   "metadata": {},
   "source": [
    "### Collecting data, importing libs"
   ]
  },
  {
   "cell_type": "code",
   "execution_count": 78,
   "metadata": {},
   "outputs": [
    {
     "data": {
      "text/html": [
       "<div>\n",
       "<style scoped>\n",
       "    .dataframe tbody tr th:only-of-type {\n",
       "        vertical-align: middle;\n",
       "    }\n",
       "\n",
       "    .dataframe tbody tr th {\n",
       "        vertical-align: top;\n",
       "    }\n",
       "\n",
       "    .dataframe thead th {\n",
       "        text-align: right;\n",
       "    }\n",
       "</style>\n",
       "<table border=\"1\" class=\"dataframe\">\n",
       "  <thead>\n",
       "    <tr style=\"text-align: right;\">\n",
       "      <th></th>\n",
       "      <th>CoffeeType</th>\n",
       "      <th>Gender</th>\n",
       "      <th>CoffeeCupsPerDay</th>\n",
       "      <th>CodingHours</th>\n",
       "      <th>CoffeeTime</th>\n",
       "      <th>CodingWithoutCoffee</th>\n",
       "      <th>CoffeeSolveBugs</th>\n",
       "      <th>AgeRange</th>\n",
       "      <th>Country</th>\n",
       "    </tr>\n",
       "  </thead>\n",
       "  <tbody>\n",
       "    <tr>\n",
       "      <th>0</th>\n",
       "      <td>Caffè latte</td>\n",
       "      <td>Female</td>\n",
       "      <td>2</td>\n",
       "      <td>8</td>\n",
       "      <td>Before coding</td>\n",
       "      <td>Yes</td>\n",
       "      <td>Sometimes</td>\n",
       "      <td>18 to 29</td>\n",
       "      <td>Lebanon</td>\n",
       "    </tr>\n",
       "    <tr>\n",
       "      <th>1</th>\n",
       "      <td>Americano</td>\n",
       "      <td>Female</td>\n",
       "      <td>2</td>\n",
       "      <td>3</td>\n",
       "      <td>Before coding</td>\n",
       "      <td>Yes</td>\n",
       "      <td>Yes</td>\n",
       "      <td>30 to 39</td>\n",
       "      <td>Lebanon</td>\n",
       "    </tr>\n",
       "    <tr>\n",
       "      <th>2</th>\n",
       "      <td>Nescafe</td>\n",
       "      <td>Female</td>\n",
       "      <td>3</td>\n",
       "      <td>5</td>\n",
       "      <td>While coding</td>\n",
       "      <td>No</td>\n",
       "      <td>Yes</td>\n",
       "      <td>18 to 29</td>\n",
       "      <td>Lebanon</td>\n",
       "    </tr>\n",
       "    <tr>\n",
       "      <th>3</th>\n",
       "      <td>Nescafe</td>\n",
       "      <td>Male</td>\n",
       "      <td>2</td>\n",
       "      <td>8</td>\n",
       "      <td>Before coding</td>\n",
       "      <td>No</td>\n",
       "      <td>Yes</td>\n",
       "      <td>NaN</td>\n",
       "      <td>Lebanon</td>\n",
       "    </tr>\n",
       "    <tr>\n",
       "      <th>4</th>\n",
       "      <td>Turkish</td>\n",
       "      <td>Male</td>\n",
       "      <td>3</td>\n",
       "      <td>10</td>\n",
       "      <td>While coding</td>\n",
       "      <td>Sometimes</td>\n",
       "      <td>No</td>\n",
       "      <td>18 to 29</td>\n",
       "      <td>Lebanon</td>\n",
       "    </tr>\n",
       "  </tbody>\n",
       "</table>\n",
       "</div>"
      ],
      "text/plain": [
       "    CoffeeType  Gender  CoffeeCupsPerDay  CodingHours     CoffeeTime  \\\n",
       "0  Caffè latte  Female                 2            8  Before coding   \n",
       "1    Americano  Female                 2            3  Before coding   \n",
       "2      Nescafe  Female                 3            5   While coding   \n",
       "3      Nescafe    Male                 2            8  Before coding   \n",
       "4      Turkish    Male                 3           10   While coding   \n",
       "\n",
       "  CodingWithoutCoffee CoffeeSolveBugs  AgeRange  Country  \n",
       "0                 Yes       Sometimes  18 to 29  Lebanon  \n",
       "1                 Yes             Yes  30 to 39  Lebanon  \n",
       "2                  No             Yes  18 to 29  Lebanon  \n",
       "3                  No             Yes       NaN  Lebanon  \n",
       "4           Sometimes              No  18 to 29  Lebanon  "
      ]
     },
     "execution_count": 78,
     "metadata": {},
     "output_type": "execute_result"
    }
   ],
   "source": [
    "import pandas as pd\n",
    "import numpy as np\n",
    "import seaborn as sns\n",
    "import matplotlib.pyplot as plt\n",
    "import math\n",
    "from sklearn.preprocessing import LabelEncoder\n",
    "sns.set(style=\"ticks\")\n",
    "\n",
    "df = pd.read_excel(r'C:\\Users\\Anja\\Desktop\\Data mining Anja 36119\\CoffeeAndCodeLT2018.xlsx')\n",
    "df.head()"
   ]
  },
  {
   "cell_type": "code",
   "execution_count": 79,
   "metadata": {},
   "outputs": [
    {
     "name": "stdout",
     "output_type": "stream",
     "text": [
      "number of data: 100\n"
     ]
    }
   ],
   "source": [
    "print(\"number of data: \"+ str(len(df.index)))"
   ]
  },
  {
   "cell_type": "code",
   "execution_count": 80,
   "metadata": {},
   "outputs": [
    {
     "data": {
      "text/plain": [
       "CoffeeType             object\n",
       "Gender                 object\n",
       "CoffeeCupsPerDay        int64\n",
       "CodingHours             int64\n",
       "CoffeeTime             object\n",
       "CodingWithoutCoffee    object\n",
       "CoffeeSolveBugs        object\n",
       "AgeRange               object\n",
       "Country                object\n",
       "dtype: object"
      ]
     },
     "execution_count": 80,
     "metadata": {},
     "output_type": "execute_result"
    }
   ],
   "source": [
    "df.dtypes"
   ]
  },
  {
   "cell_type": "code",
   "execution_count": 81,
   "metadata": {},
   "outputs": [
    {
     "data": {
      "text/html": [
       "<div>\n",
       "<style scoped>\n",
       "    .dataframe tbody tr th:only-of-type {\n",
       "        vertical-align: middle;\n",
       "    }\n",
       "\n",
       "    .dataframe tbody tr th {\n",
       "        vertical-align: top;\n",
       "    }\n",
       "\n",
       "    .dataframe thead th {\n",
       "        text-align: right;\n",
       "    }\n",
       "</style>\n",
       "<table border=\"1\" class=\"dataframe\">\n",
       "  <thead>\n",
       "    <tr style=\"text-align: right;\">\n",
       "      <th></th>\n",
       "      <th>CoffeeType</th>\n",
       "      <th>Gender</th>\n",
       "      <th>CoffeeCupsPerDay</th>\n",
       "      <th>CodingHours</th>\n",
       "      <th>CoffeeTime</th>\n",
       "      <th>CodingWithoutCoffee</th>\n",
       "      <th>CoffeeSolveBugs</th>\n",
       "      <th>AgeRange</th>\n",
       "      <th>Country</th>\n",
       "    </tr>\n",
       "  </thead>\n",
       "  <tbody>\n",
       "    <tr>\n",
       "      <th>count</th>\n",
       "      <td>99</td>\n",
       "      <td>100</td>\n",
       "      <td>100.000000</td>\n",
       "      <td>100.000000</td>\n",
       "      <td>100</td>\n",
       "      <td>100</td>\n",
       "      <td>100</td>\n",
       "      <td>98</td>\n",
       "      <td>100</td>\n",
       "    </tr>\n",
       "    <tr>\n",
       "      <th>unique</th>\n",
       "      <td>8</td>\n",
       "      <td>2</td>\n",
       "      <td>NaN</td>\n",
       "      <td>NaN</td>\n",
       "      <td>7</td>\n",
       "      <td>3</td>\n",
       "      <td>3</td>\n",
       "      <td>5</td>\n",
       "      <td>1</td>\n",
       "    </tr>\n",
       "    <tr>\n",
       "      <th>top</th>\n",
       "      <td>Nescafe</td>\n",
       "      <td>Male</td>\n",
       "      <td>NaN</td>\n",
       "      <td>NaN</td>\n",
       "      <td>While coding</td>\n",
       "      <td>Sometimes</td>\n",
       "      <td>Sometimes</td>\n",
       "      <td>18 to 29</td>\n",
       "      <td>Lebanon</td>\n",
       "    </tr>\n",
       "    <tr>\n",
       "      <th>freq</th>\n",
       "      <td>32</td>\n",
       "      <td>74</td>\n",
       "      <td>NaN</td>\n",
       "      <td>NaN</td>\n",
       "      <td>61</td>\n",
       "      <td>51</td>\n",
       "      <td>43</td>\n",
       "      <td>60</td>\n",
       "      <td>100</td>\n",
       "    </tr>\n",
       "    <tr>\n",
       "      <th>mean</th>\n",
       "      <td>NaN</td>\n",
       "      <td>NaN</td>\n",
       "      <td>2.890000</td>\n",
       "      <td>6.410000</td>\n",
       "      <td>NaN</td>\n",
       "      <td>NaN</td>\n",
       "      <td>NaN</td>\n",
       "      <td>NaN</td>\n",
       "      <td>NaN</td>\n",
       "    </tr>\n",
       "    <tr>\n",
       "      <th>std</th>\n",
       "      <td>NaN</td>\n",
       "      <td>NaN</td>\n",
       "      <td>1.613673</td>\n",
       "      <td>2.644205</td>\n",
       "      <td>NaN</td>\n",
       "      <td>NaN</td>\n",
       "      <td>NaN</td>\n",
       "      <td>NaN</td>\n",
       "      <td>NaN</td>\n",
       "    </tr>\n",
       "    <tr>\n",
       "      <th>min</th>\n",
       "      <td>NaN</td>\n",
       "      <td>NaN</td>\n",
       "      <td>1.000000</td>\n",
       "      <td>1.000000</td>\n",
       "      <td>NaN</td>\n",
       "      <td>NaN</td>\n",
       "      <td>NaN</td>\n",
       "      <td>NaN</td>\n",
       "      <td>NaN</td>\n",
       "    </tr>\n",
       "    <tr>\n",
       "      <th>25%</th>\n",
       "      <td>NaN</td>\n",
       "      <td>NaN</td>\n",
       "      <td>2.000000</td>\n",
       "      <td>4.000000</td>\n",
       "      <td>NaN</td>\n",
       "      <td>NaN</td>\n",
       "      <td>NaN</td>\n",
       "      <td>NaN</td>\n",
       "      <td>NaN</td>\n",
       "    </tr>\n",
       "    <tr>\n",
       "      <th>50%</th>\n",
       "      <td>NaN</td>\n",
       "      <td>NaN</td>\n",
       "      <td>2.500000</td>\n",
       "      <td>7.000000</td>\n",
       "      <td>NaN</td>\n",
       "      <td>NaN</td>\n",
       "      <td>NaN</td>\n",
       "      <td>NaN</td>\n",
       "      <td>NaN</td>\n",
       "    </tr>\n",
       "    <tr>\n",
       "      <th>75%</th>\n",
       "      <td>NaN</td>\n",
       "      <td>NaN</td>\n",
       "      <td>4.000000</td>\n",
       "      <td>8.000000</td>\n",
       "      <td>NaN</td>\n",
       "      <td>NaN</td>\n",
       "      <td>NaN</td>\n",
       "      <td>NaN</td>\n",
       "      <td>NaN</td>\n",
       "    </tr>\n",
       "    <tr>\n",
       "      <th>max</th>\n",
       "      <td>NaN</td>\n",
       "      <td>NaN</td>\n",
       "      <td>8.000000</td>\n",
       "      <td>10.000000</td>\n",
       "      <td>NaN</td>\n",
       "      <td>NaN</td>\n",
       "      <td>NaN</td>\n",
       "      <td>NaN</td>\n",
       "      <td>NaN</td>\n",
       "    </tr>\n",
       "  </tbody>\n",
       "</table>\n",
       "</div>"
      ],
      "text/plain": [
       "       CoffeeType Gender  CoffeeCupsPerDay  CodingHours    CoffeeTime  \\\n",
       "count          99    100        100.000000   100.000000           100   \n",
       "unique          8      2               NaN          NaN             7   \n",
       "top       Nescafe   Male               NaN          NaN  While coding   \n",
       "freq           32     74               NaN          NaN            61   \n",
       "mean          NaN    NaN          2.890000     6.410000           NaN   \n",
       "std           NaN    NaN          1.613673     2.644205           NaN   \n",
       "min           NaN    NaN          1.000000     1.000000           NaN   \n",
       "25%           NaN    NaN          2.000000     4.000000           NaN   \n",
       "50%           NaN    NaN          2.500000     7.000000           NaN   \n",
       "75%           NaN    NaN          4.000000     8.000000           NaN   \n",
       "max           NaN    NaN          8.000000    10.000000           NaN   \n",
       "\n",
       "       CodingWithoutCoffee CoffeeSolveBugs  AgeRange  Country  \n",
       "count                  100             100        98      100  \n",
       "unique                   3               3         5        1  \n",
       "top              Sometimes       Sometimes  18 to 29  Lebanon  \n",
       "freq                    51              43        60      100  \n",
       "mean                   NaN             NaN       NaN      NaN  \n",
       "std                    NaN             NaN       NaN      NaN  \n",
       "min                    NaN             NaN       NaN      NaN  \n",
       "25%                    NaN             NaN       NaN      NaN  \n",
       "50%                    NaN             NaN       NaN      NaN  \n",
       "75%                    NaN             NaN       NaN      NaN  \n",
       "max                    NaN             NaN       NaN      NaN  "
      ]
     },
     "execution_count": 81,
     "metadata": {},
     "output_type": "execute_result"
    }
   ],
   "source": [
    "df.describe(include=\"all\")"
   ]
  },
  {
   "cell_type": "markdown",
   "metadata": {},
   "source": [
    "### Analyzing Data"
   ]
  },
  {
   "cell_type": "code",
   "execution_count": 82,
   "metadata": {},
   "outputs": [
    {
     "data": {
      "text/plain": [
       "<matplotlib.axes._subplots.AxesSubplot at 0x27818fab108>"
      ]
     },
     "execution_count": 82,
     "metadata": {},
     "output_type": "execute_result"
    },
    {
     "data": {
      "image/png": "[encoded data removed]",
      "text/plain": [
       "<Figure size 432x288 with 1 Axes>"
      ]
     },
     "metadata": {},
     "output_type": "display_data"
    }
   ],
   "source": [
    "sns.countplot(x = \"CoffeeCupsPerDay\", data = df)"
   ]
  },
  {
   "cell_type": "code",
   "execution_count": 83,
   "metadata": {},
   "outputs": [
    {
     "name": "stdout",
     "output_type": "stream",
     "text": [
      "Nescafe                     0.323232\n",
      "American Coffee             0.232323\n",
      "Turkish                     0.191919\n",
      "Espresso (Short Black)      0.080808\n",
      "Cappuccino                  0.070707\n",
      "Caffè latte                 0.050505\n",
      "Double Espresso (Doppio)    0.030303\n",
      "Americano                   0.020202\n",
      "Name: CoffeeType, dtype: float64\n"
     ]
    },
    {
     "data": {
      "image/png": "[encoded data removed]",
      "text/plain": [
       "<Figure size 432x288 with 1 Axes>"
      ]
     },
     "metadata": {},
     "output_type": "display_data"
    }
   ],
   "source": [
    "CoffeeCupsPerDay = df.CoffeeType\n",
    "CoffeeCupsPerDay.value_counts().plot(kind='barh')\n",
    "print (CoffeeCupsPerDay.value_counts(normalize=True))"
   ]
  },
  {
   "cell_type": "code",
   "execution_count": 84,
   "metadata": {},
   "outputs": [
    {
     "name": "stdout",
     "output_type": "stream",
     "text": [
      "2    34\n",
      "3    23\n",
      "1    16\n",
      "4    15\n",
      "6     4\n",
      "7     3\n",
      "5     3\n",
      "8     2\n",
      "Name: CoffeeCupsPerDay, dtype: int64\n"
     ]
    },
    {
     "data": {
      "image/png": "[encoded data removed]",
      "text/plain": [
       "<Figure size 432x288 with 1 Axes>"
      ]
     },
     "metadata": {},
     "output_type": "display_data"
    }
   ],
   "source": [
    "CoffeeCupsPerDay = df[\"CoffeeCupsPerDay\"]\n",
    "print (CoffeeCupsPerDay.value_counts())\n",
    "prob= CoffeeCupsPerDay.value_counts(normalize=True)\n",
    "threshold = 0.02\n",
    "mask = prob > threshold\n",
    "tail_prob = prob.loc[~mask].sum()\n",
    "prob = prob.loc[mask]\n",
    "prob['other'] = tail_prob\n",
    "prob.plot(kind='bar')\n",
    "plt.xticks(rotation=25)\n",
    "plt.show()"
   ]
  },
  {
   "cell_type": "code",
   "execution_count": 85,
   "metadata": {},
   "outputs": [
    {
     "data": {
      "image/png": "[encoded data removed]",
      "text/plain": [
       "<Figure size 453.595x288 with 1 Axes>"
      ]
     },
     "metadata": {},
     "output_type": "display_data"
    }
   ],
   "source": [
    "g = sns.catplot(x=\"CoffeeCupsPerDay\", hue=\"CoffeeType\",\n",
    "                data=df, kind=\"count\",\n",
    "                height=4, aspect=.99, sharex=False, sharey=False, palette=\"RdBu_r\");"
   ]
  },
  {
   "cell_type": "code",
   "execution_count": 86,
   "metadata": {},
   "outputs": [
    {
     "data": {
      "text/html": [
       "<div>\n",
       "<style scoped>\n",
       "    .dataframe tbody tr th:only-of-type {\n",
       "        vertical-align: middle;\n",
       "    }\n",
       "\n",
       "    .dataframe tbody tr th {\n",
       "        vertical-align: top;\n",
       "    }\n",
       "\n",
       "    .dataframe thead th {\n",
       "        text-align: right;\n",
       "    }\n",
       "</style>\n",
       "<table border=\"1\" class=\"dataframe\">\n",
       "  <thead>\n",
       "    <tr style=\"text-align: right;\">\n",
       "      <th>Gender</th>\n",
       "      <th>Female</th>\n",
       "      <th>Male</th>\n",
       "    </tr>\n",
       "  </thead>\n",
       "  <tbody>\n",
       "    <tr>\n",
       "      <th>count</th>\n",
       "      <td>26.000000</td>\n",
       "      <td>74.000000</td>\n",
       "    </tr>\n",
       "    <tr>\n",
       "      <th>max</th>\n",
       "      <td>7.000000</td>\n",
       "      <td>8.000000</td>\n",
       "    </tr>\n",
       "    <tr>\n",
       "      <th>mean</th>\n",
       "      <td>2.269231</td>\n",
       "      <td>3.108108</td>\n",
       "    </tr>\n",
       "    <tr>\n",
       "      <th>min</th>\n",
       "      <td>1.000000</td>\n",
       "      <td>1.000000</td>\n",
       "    </tr>\n",
       "  </tbody>\n",
       "</table>\n",
       "</div>"
      ],
      "text/plain": [
       "Gender     Female       Male\n",
       "count   26.000000  74.000000\n",
       "max      7.000000   8.000000\n",
       "mean     2.269231   3.108108\n",
       "min      1.000000   1.000000"
      ]
     },
     "execution_count": 86,
     "metadata": {},
     "output_type": "execute_result"
    }
   ],
   "source": [
    "#Da li žene ili muškarci količinski više konzumiraju kafu?\n",
    "\n",
    "cups_by_gender = df.pivot_table(columns='Gender', values='CoffeeCupsPerDay', aggfunc={'mean', 'count', 'min', 'max'})\n",
    "cups_by_gender.head()"
   ]
  },
  {
   "cell_type": "code",
   "execution_count": 87,
   "metadata": {},
   "outputs": [
    {
     "data": {
      "text/plain": [
       "<matplotlib.axes._subplots.AxesSubplot at 0x2781c065b88>"
      ]
     },
     "execution_count": 87,
     "metadata": {},
     "output_type": "execute_result"
    },
    {
     "data": {
      "image/png": "[encoded data removed]",
      "text/plain": [
       "<Figure size 432x288 with 1 Axes>"
      ]
     },
     "metadata": {},
     "output_type": "display_data"
    }
   ],
   "source": [
    "sns.countplot(x = \"CoffeeCupsPerDay\", hue = \"Gender\", data = df)"
   ]
  },
  {
   "cell_type": "code",
   "execution_count": 88,
   "metadata": {},
   "outputs": [
    {
     "data": {
      "text/html": [
       "<div>\n",
       "<style scoped>\n",
       "    .dataframe tbody tr th:only-of-type {\n",
       "        vertical-align: middle;\n",
       "    }\n",
       "\n",
       "    .dataframe tbody tr th {\n",
       "        vertical-align: top;\n",
       "    }\n",
       "\n",
       "    .dataframe thead th {\n",
       "        text-align: right;\n",
       "    }\n",
       "</style>\n",
       "<table border=\"1\" class=\"dataframe\">\n",
       "  <thead>\n",
       "    <tr style=\"text-align: right;\">\n",
       "      <th></th>\n",
       "      <th></th>\n",
       "      <th></th>\n",
       "      <th>mean</th>\n",
       "      <th>count</th>\n",
       "      <th>min</th>\n",
       "      <th>max</th>\n",
       "    </tr>\n",
       "    <tr>\n",
       "      <th>Gender</th>\n",
       "      <th>CodingWithoutCoffee</th>\n",
       "      <th>CoffeeSolveBugs</th>\n",
       "      <th></th>\n",
       "      <th></th>\n",
       "      <th></th>\n",
       "      <th></th>\n",
       "    </tr>\n",
       "  </thead>\n",
       "  <tbody>\n",
       "    <tr>\n",
       "      <th rowspan=\"9\" valign=\"top\">Female</th>\n",
       "      <th rowspan=\"3\" valign=\"top\">No</th>\n",
       "      <th>No</th>\n",
       "      <td>2.000000</td>\n",
       "      <td>1</td>\n",
       "      <td>2</td>\n",
       "      <td>2</td>\n",
       "    </tr>\n",
       "    <tr>\n",
       "      <th>Sometimes</th>\n",
       "      <td>2.000000</td>\n",
       "      <td>1</td>\n",
       "      <td>2</td>\n",
       "      <td>2</td>\n",
       "    </tr>\n",
       "    <tr>\n",
       "      <th>Yes</th>\n",
       "      <td>2.666667</td>\n",
       "      <td>3</td>\n",
       "      <td>2</td>\n",
       "      <td>3</td>\n",
       "    </tr>\n",
       "    <tr>\n",
       "      <th rowspan=\"3\" valign=\"top\">Sometimes</th>\n",
       "      <th>No</th>\n",
       "      <td>1.500000</td>\n",
       "      <td>2</td>\n",
       "      <td>1</td>\n",
       "      <td>2</td>\n",
       "    </tr>\n",
       "    <tr>\n",
       "      <th>Sometimes</th>\n",
       "      <td>2.333333</td>\n",
       "      <td>9</td>\n",
       "      <td>1</td>\n",
       "      <td>3</td>\n",
       "    </tr>\n",
       "    <tr>\n",
       "      <th>Yes</th>\n",
       "      <td>2.000000</td>\n",
       "      <td>1</td>\n",
       "      <td>2</td>\n",
       "      <td>2</td>\n",
       "    </tr>\n",
       "    <tr>\n",
       "      <th rowspan=\"3\" valign=\"top\">Yes</th>\n",
       "      <th>No</th>\n",
       "      <td>1.500000</td>\n",
       "      <td>4</td>\n",
       "      <td>1</td>\n",
       "      <td>3</td>\n",
       "    </tr>\n",
       "    <tr>\n",
       "      <th>Sometimes</th>\n",
       "      <td>1.500000</td>\n",
       "      <td>2</td>\n",
       "      <td>1</td>\n",
       "      <td>2</td>\n",
       "    </tr>\n",
       "    <tr>\n",
       "      <th>Yes</th>\n",
       "      <td>4.000000</td>\n",
       "      <td>3</td>\n",
       "      <td>2</td>\n",
       "      <td>7</td>\n",
       "    </tr>\n",
       "    <tr>\n",
       "      <th rowspan=\"9\" valign=\"top\">Male</th>\n",
       "      <th rowspan=\"3\" valign=\"top\">No</th>\n",
       "      <th>No</th>\n",
       "      <td>3.000000</td>\n",
       "      <td>3</td>\n",
       "      <td>3</td>\n",
       "      <td>3</td>\n",
       "    </tr>\n",
       "    <tr>\n",
       "      <th>Sometimes</th>\n",
       "      <td>5.750000</td>\n",
       "      <td>4</td>\n",
       "      <td>4</td>\n",
       "      <td>8</td>\n",
       "    </tr>\n",
       "    <tr>\n",
       "      <th>Yes</th>\n",
       "      <td>4.714286</td>\n",
       "      <td>7</td>\n",
       "      <td>2</td>\n",
       "      <td>8</td>\n",
       "    </tr>\n",
       "    <tr>\n",
       "      <th rowspan=\"3\" valign=\"top\">Sometimes</th>\n",
       "      <th>No</th>\n",
       "      <td>3.875000</td>\n",
       "      <td>8</td>\n",
       "      <td>2</td>\n",
       "      <td>6</td>\n",
       "    </tr>\n",
       "    <tr>\n",
       "      <th>Sometimes</th>\n",
       "      <td>2.684211</td>\n",
       "      <td>19</td>\n",
       "      <td>1</td>\n",
       "      <td>4</td>\n",
       "    </tr>\n",
       "    <tr>\n",
       "      <th>Yes</th>\n",
       "      <td>3.500000</td>\n",
       "      <td>12</td>\n",
       "      <td>2</td>\n",
       "      <td>5</td>\n",
       "    </tr>\n",
       "    <tr>\n",
       "      <th rowspan=\"3\" valign=\"top\">Yes</th>\n",
       "      <th>No</th>\n",
       "      <td>1.555556</td>\n",
       "      <td>9</td>\n",
       "      <td>1</td>\n",
       "      <td>2</td>\n",
       "    </tr>\n",
       "    <tr>\n",
       "      <th>Sometimes</th>\n",
       "      <td>2.500000</td>\n",
       "      <td>8</td>\n",
       "      <td>1</td>\n",
       "      <td>4</td>\n",
       "    </tr>\n",
       "    <tr>\n",
       "      <th>Yes</th>\n",
       "      <td>1.750000</td>\n",
       "      <td>4</td>\n",
       "      <td>1</td>\n",
       "      <td>3</td>\n",
       "    </tr>\n",
       "  </tbody>\n",
       "</table>\n",
       "</div>"
      ],
      "text/plain": [
       "                                                mean  count  min  max\n",
       "Gender CodingWithoutCoffee CoffeeSolveBugs                           \n",
       "Female No                  No               2.000000      1    2    2\n",
       "                           Sometimes        2.000000      1    2    2\n",
       "                           Yes              2.666667      3    2    3\n",
       "       Sometimes           No               1.500000      2    1    2\n",
       "                           Sometimes        2.333333      9    1    3\n",
       "                           Yes              2.000000      1    2    2\n",
       "       Yes                 No               1.500000      4    1    3\n",
       "                           Sometimes        1.500000      2    1    2\n",
       "                           Yes              4.000000      3    2    7\n",
       "Male   No                  No               3.000000      3    3    3\n",
       "                           Sometimes        5.750000      4    4    8\n",
       "                           Yes              4.714286      7    2    8\n",
       "       Sometimes           No               3.875000      8    2    6\n",
       "                           Sometimes        2.684211     19    1    4\n",
       "                           Yes              3.500000     12    2    5\n",
       "       Yes                 No               1.555556      9    1    2\n",
       "                           Sometimes        2.500000      8    1    4\n",
       "                           Yes              1.750000      4    1    3"
      ]
     },
     "execution_count": 88,
     "metadata": {},
     "output_type": "execute_result"
    }
   ],
   "source": [
    "# Problem: Da li je uticaj kafe isti na muškarce i žene?\n",
    "\n",
    "df.groupby(['Gender', 'CodingWithoutCoffee', 'CoffeeSolveBugs']).CoffeeCupsPerDay.agg(['mean','count', 'min', 'max'])"
   ]
  },
  {
   "cell_type": "code",
   "execution_count": 89,
   "metadata": {},
   "outputs": [
    {
     "data": {
      "text/html": [
       "<div>\n",
       "<style scoped>\n",
       "    .dataframe tbody tr th:only-of-type {\n",
       "        vertical-align: middle;\n",
       "    }\n",
       "\n",
       "    .dataframe tbody tr th {\n",
       "        vertical-align: top;\n",
       "    }\n",
       "\n",
       "    .dataframe thead th {\n",
       "        text-align: right;\n",
       "    }\n",
       "</style>\n",
       "<table border=\"1\" class=\"dataframe\">\n",
       "  <thead>\n",
       "    <tr style=\"text-align: right;\">\n",
       "      <th>CoffeeSolveBugs</th>\n",
       "      <th>Gender</th>\n",
       "      <th>CodingWithoutCoffee</th>\n",
       "      <th>No</th>\n",
       "      <th>Sometimes</th>\n",
       "      <th>Yes</th>\n",
       "    </tr>\n",
       "  </thead>\n",
       "  <tbody>\n",
       "    <tr>\n",
       "      <th>0</th>\n",
       "      <td>Female</td>\n",
       "      <td>No</td>\n",
       "      <td>1</td>\n",
       "      <td>1</td>\n",
       "      <td>3</td>\n",
       "    </tr>\n",
       "    <tr>\n",
       "      <th>1</th>\n",
       "      <td>Female</td>\n",
       "      <td>Sometimes</td>\n",
       "      <td>2</td>\n",
       "      <td>9</td>\n",
       "      <td>1</td>\n",
       "    </tr>\n",
       "    <tr>\n",
       "      <th>2</th>\n",
       "      <td>Female</td>\n",
       "      <td>Yes</td>\n",
       "      <td>4</td>\n",
       "      <td>2</td>\n",
       "      <td>3</td>\n",
       "    </tr>\n",
       "    <tr>\n",
       "      <th>3</th>\n",
       "      <td>Male</td>\n",
       "      <td>No</td>\n",
       "      <td>3</td>\n",
       "      <td>4</td>\n",
       "      <td>7</td>\n",
       "    </tr>\n",
       "    <tr>\n",
       "      <th>4</th>\n",
       "      <td>Male</td>\n",
       "      <td>Sometimes</td>\n",
       "      <td>8</td>\n",
       "      <td>19</td>\n",
       "      <td>12</td>\n",
       "    </tr>\n",
       "    <tr>\n",
       "      <th>5</th>\n",
       "      <td>Male</td>\n",
       "      <td>Yes</td>\n",
       "      <td>9</td>\n",
       "      <td>8</td>\n",
       "      <td>4</td>\n",
       "    </tr>\n",
       "  </tbody>\n",
       "</table>\n",
       "</div>"
      ],
      "text/plain": [
       "CoffeeSolveBugs  Gender CodingWithoutCoffee  No  Sometimes  Yes\n",
       "0                Female                  No   1          1    3\n",
       "1                Female           Sometimes   2          9    1\n",
       "2                Female                 Yes   4          2    3\n",
       "3                  Male                  No   3          4    7\n",
       "4                  Male           Sometimes   8         19   12\n",
       "5                  Male                 Yes   9          8    4"
      ]
     },
     "execution_count": 89,
     "metadata": {},
     "output_type": "execute_result"
    }
   ],
   "source": [
    "# Problem: Da li je uticaj kafe isti na muškarce i žene?\n",
    "\n",
    "group_by_gender = df.groupby(['Gender', 'CodingWithoutCoffee', 'CoffeeSolveBugs'])\n",
    "group_by_gender.size().unstack().reset_index()"
   ]
  },
  {
   "cell_type": "code",
   "execution_count": 90,
   "metadata": {},
   "outputs": [
    {
     "data": {
      "text/html": [
       "<div>\n",
       "<style scoped>\n",
       "    .dataframe tbody tr th:only-of-type {\n",
       "        vertical-align: middle;\n",
       "    }\n",
       "\n",
       "    .dataframe tbody tr th {\n",
       "        vertical-align: top;\n",
       "    }\n",
       "\n",
       "    .dataframe thead th {\n",
       "        text-align: right;\n",
       "    }\n",
       "</style>\n",
       "<table border=\"1\" class=\"dataframe\">\n",
       "  <thead>\n",
       "    <tr style=\"text-align: right;\">\n",
       "      <th></th>\n",
       "      <th></th>\n",
       "      <th></th>\n",
       "      <th></th>\n",
       "      <th>mean</th>\n",
       "      <th>count</th>\n",
       "      <th>min</th>\n",
       "      <th>max</th>\n",
       "    </tr>\n",
       "    <tr>\n",
       "      <th>Gender</th>\n",
       "      <th>CodingWithoutCoffee</th>\n",
       "      <th>CoffeeSolveBugs</th>\n",
       "      <th>CoffeeTime</th>\n",
       "      <th></th>\n",
       "      <th></th>\n",
       "      <th></th>\n",
       "      <th></th>\n",
       "    </tr>\n",
       "  </thead>\n",
       "  <tbody>\n",
       "    <tr>\n",
       "      <th rowspan=\"15\" valign=\"top\">Female</th>\n",
       "      <th rowspan=\"3\" valign=\"top\">No</th>\n",
       "      <th>No</th>\n",
       "      <th>Before coding</th>\n",
       "      <td>2.000000</td>\n",
       "      <td>1</td>\n",
       "      <td>2</td>\n",
       "      <td>2</td>\n",
       "    </tr>\n",
       "    <tr>\n",
       "      <th>Sometimes</th>\n",
       "      <th>While coding</th>\n",
       "      <td>2.000000</td>\n",
       "      <td>1</td>\n",
       "      <td>2</td>\n",
       "      <td>2</td>\n",
       "    </tr>\n",
       "    <tr>\n",
       "      <th>Yes</th>\n",
       "      <th>While coding</th>\n",
       "      <td>2.666667</td>\n",
       "      <td>3</td>\n",
       "      <td>2</td>\n",
       "      <td>3</td>\n",
       "    </tr>\n",
       "    <tr>\n",
       "      <th rowspan=\"4\" valign=\"top\">Sometimes</th>\n",
       "      <th>No</th>\n",
       "      <th>While coding</th>\n",
       "      <td>1.500000</td>\n",
       "      <td>2</td>\n",
       "      <td>1</td>\n",
       "      <td>2</td>\n",
       "    </tr>\n",
       "    <tr>\n",
       "      <th rowspan=\"2\" valign=\"top\">Sometimes</th>\n",
       "      <th>Before coding</th>\n",
       "      <td>1.666667</td>\n",
       "      <td>3</td>\n",
       "      <td>1</td>\n",
       "      <td>2</td>\n",
       "    </tr>\n",
       "    <tr>\n",
       "      <th>While coding</th>\n",
       "      <td>2.666667</td>\n",
       "      <td>6</td>\n",
       "      <td>2</td>\n",
       "      <td>3</td>\n",
       "    </tr>\n",
       "    <tr>\n",
       "      <th>Yes</th>\n",
       "      <th>Before coding</th>\n",
       "      <td>2.000000</td>\n",
       "      <td>1</td>\n",
       "      <td>2</td>\n",
       "      <td>2</td>\n",
       "    </tr>\n",
       "    <tr>\n",
       "      <th rowspan=\"8\" valign=\"top\">Yes</th>\n",
       "      <th rowspan=\"3\" valign=\"top\">No</th>\n",
       "      <th>Before coding</th>\n",
       "      <td>1.000000</td>\n",
       "      <td>1</td>\n",
       "      <td>1</td>\n",
       "      <td>1</td>\n",
       "    </tr>\n",
       "    <tr>\n",
       "      <th>In the morning</th>\n",
       "      <td>1.000000</td>\n",
       "      <td>2</td>\n",
       "      <td>1</td>\n",
       "      <td>1</td>\n",
       "    </tr>\n",
       "    <tr>\n",
       "      <th>While coding</th>\n",
       "      <td>3.000000</td>\n",
       "      <td>1</td>\n",
       "      <td>3</td>\n",
       "      <td>3</td>\n",
       "    </tr>\n",
       "    <tr>\n",
       "      <th rowspan=\"2\" valign=\"top\">Sometimes</th>\n",
       "      <th>Before coding</th>\n",
       "      <td>2.000000</td>\n",
       "      <td>1</td>\n",
       "      <td>2</td>\n",
       "      <td>2</td>\n",
       "    </tr>\n",
       "    <tr>\n",
       "      <th>In the morning</th>\n",
       "      <td>1.000000</td>\n",
       "      <td>1</td>\n",
       "      <td>1</td>\n",
       "      <td>1</td>\n",
       "    </tr>\n",
       "    <tr>\n",
       "      <th rowspan=\"3\" valign=\"top\">Yes</th>\n",
       "      <th>After coding</th>\n",
       "      <td>7.000000</td>\n",
       "      <td>1</td>\n",
       "      <td>7</td>\n",
       "      <td>7</td>\n",
       "    </tr>\n",
       "    <tr>\n",
       "      <th>Before coding</th>\n",
       "      <td>2.000000</td>\n",
       "      <td>1</td>\n",
       "      <td>2</td>\n",
       "      <td>2</td>\n",
       "    </tr>\n",
       "    <tr>\n",
       "      <th>While coding</th>\n",
       "      <td>3.000000</td>\n",
       "      <td>1</td>\n",
       "      <td>3</td>\n",
       "      <td>3</td>\n",
       "    </tr>\n",
       "    <tr>\n",
       "      <th rowspan=\"22\" valign=\"top\">Male</th>\n",
       "      <th rowspan=\"6\" valign=\"top\">No</th>\n",
       "      <th>No</th>\n",
       "      <th>While coding</th>\n",
       "      <td>3.000000</td>\n",
       "      <td>3</td>\n",
       "      <td>3</td>\n",
       "      <td>3</td>\n",
       "    </tr>\n",
       "    <tr>\n",
       "      <th rowspan=\"2\" valign=\"top\">Sometimes</th>\n",
       "      <th>Before and while coding</th>\n",
       "      <td>7.000000</td>\n",
       "      <td>1</td>\n",
       "      <td>7</td>\n",
       "      <td>7</td>\n",
       "    </tr>\n",
       "    <tr>\n",
       "      <th>While coding</th>\n",
       "      <td>5.333333</td>\n",
       "      <td>3</td>\n",
       "      <td>4</td>\n",
       "      <td>8</td>\n",
       "    </tr>\n",
       "    <tr>\n",
       "      <th rowspan=\"3\" valign=\"top\">Yes</th>\n",
       "      <th>All the time</th>\n",
       "      <td>7.000000</td>\n",
       "      <td>3</td>\n",
       "      <td>6</td>\n",
       "      <td>8</td>\n",
       "    </tr>\n",
       "    <tr>\n",
       "      <th>Before and while coding</th>\n",
       "      <td>3.000000</td>\n",
       "      <td>2</td>\n",
       "      <td>2</td>\n",
       "      <td>4</td>\n",
       "    </tr>\n",
       "    <tr>\n",
       "      <th>Before coding</th>\n",
       "      <td>3.000000</td>\n",
       "      <td>2</td>\n",
       "      <td>2</td>\n",
       "      <td>4</td>\n",
       "    </tr>\n",
       "    <tr>\n",
       "      <th rowspan=\"8\" valign=\"top\">Sometimes</th>\n",
       "      <th rowspan=\"2\" valign=\"top\">No</th>\n",
       "      <th>Before coding</th>\n",
       "      <td>4.000000</td>\n",
       "      <td>1</td>\n",
       "      <td>4</td>\n",
       "      <td>4</td>\n",
       "    </tr>\n",
       "    <tr>\n",
       "      <th>While coding</th>\n",
       "      <td>3.857143</td>\n",
       "      <td>7</td>\n",
       "      <td>2</td>\n",
       "      <td>6</td>\n",
       "    </tr>\n",
       "    <tr>\n",
       "      <th rowspan=\"4\" valign=\"top\">Sometimes</th>\n",
       "      <th>All the time</th>\n",
       "      <td>3.000000</td>\n",
       "      <td>1</td>\n",
       "      <td>3</td>\n",
       "      <td>3</td>\n",
       "    </tr>\n",
       "    <tr>\n",
       "      <th>Before and while coding</th>\n",
       "      <td>4.000000</td>\n",
       "      <td>1</td>\n",
       "      <td>4</td>\n",
       "      <td>4</td>\n",
       "    </tr>\n",
       "    <tr>\n",
       "      <th>Before coding</th>\n",
       "      <td>2.500000</td>\n",
       "      <td>4</td>\n",
       "      <td>1</td>\n",
       "      <td>4</td>\n",
       "    </tr>\n",
       "    <tr>\n",
       "      <th>While coding</th>\n",
       "      <td>2.615385</td>\n",
       "      <td>13</td>\n",
       "      <td>1</td>\n",
       "      <td>4</td>\n",
       "    </tr>\n",
       "    <tr>\n",
       "      <th rowspan=\"2\" valign=\"top\">Yes</th>\n",
       "      <th>Before coding</th>\n",
       "      <td>2.500000</td>\n",
       "      <td>2</td>\n",
       "      <td>2</td>\n",
       "      <td>3</td>\n",
       "    </tr>\n",
       "    <tr>\n",
       "      <th>While coding</th>\n",
       "      <td>3.700000</td>\n",
       "      <td>10</td>\n",
       "      <td>2</td>\n",
       "      <td>5</td>\n",
       "    </tr>\n",
       "    <tr>\n",
       "      <th rowspan=\"8\" valign=\"top\">Yes</th>\n",
       "      <th rowspan=\"2\" valign=\"top\">No</th>\n",
       "      <th>Before coding</th>\n",
       "      <td>1.250000</td>\n",
       "      <td>4</td>\n",
       "      <td>1</td>\n",
       "      <td>2</td>\n",
       "    </tr>\n",
       "    <tr>\n",
       "      <th>While coding</th>\n",
       "      <td>1.800000</td>\n",
       "      <td>5</td>\n",
       "      <td>1</td>\n",
       "      <td>2</td>\n",
       "    </tr>\n",
       "    <tr>\n",
       "      <th rowspan=\"4\" valign=\"top\">Sometimes</th>\n",
       "      <th>After coding</th>\n",
       "      <td>2.000000</td>\n",
       "      <td>1</td>\n",
       "      <td>2</td>\n",
       "      <td>2</td>\n",
       "    </tr>\n",
       "    <tr>\n",
       "      <th>Before coding</th>\n",
       "      <td>1.000000</td>\n",
       "      <td>1</td>\n",
       "      <td>1</td>\n",
       "      <td>1</td>\n",
       "    </tr>\n",
       "    <tr>\n",
       "      <th>No specific time</th>\n",
       "      <td>4.000000</td>\n",
       "      <td>1</td>\n",
       "      <td>4</td>\n",
       "      <td>4</td>\n",
       "    </tr>\n",
       "    <tr>\n",
       "      <th>While coding</th>\n",
       "      <td>2.600000</td>\n",
       "      <td>5</td>\n",
       "      <td>2</td>\n",
       "      <td>4</td>\n",
       "    </tr>\n",
       "    <tr>\n",
       "      <th rowspan=\"2\" valign=\"top\">Yes</th>\n",
       "      <th>Before coding</th>\n",
       "      <td>2.000000</td>\n",
       "      <td>3</td>\n",
       "      <td>1</td>\n",
       "      <td>3</td>\n",
       "    </tr>\n",
       "    <tr>\n",
       "      <th>While coding</th>\n",
       "      <td>1.000000</td>\n",
       "      <td>1</td>\n",
       "      <td>1</td>\n",
       "      <td>1</td>\n",
       "    </tr>\n",
       "  </tbody>\n",
       "</table>\n",
       "</div>"
      ],
      "text/plain": [
       "                                                                        mean  \\\n",
       "Gender CodingWithoutCoffee CoffeeSolveBugs CoffeeTime                          \n",
       "Female No                  No              Before coding            2.000000   \n",
       "                           Sometimes       While coding             2.000000   \n",
       "                           Yes             While coding             2.666667   \n",
       "       Sometimes           No              While coding             1.500000   \n",
       "                           Sometimes       Before coding            1.666667   \n",
       "                                           While coding             2.666667   \n",
       "                           Yes             Before coding            2.000000   \n",
       "       Yes                 No              Before coding            1.000000   \n",
       "                                           In the morning           1.000000   \n",
       "                                           While coding             3.000000   \n",
       "                           Sometimes       Before coding            2.000000   \n",
       "                                           In the morning           1.000000   \n",
       "                           Yes             After coding             7.000000   \n",
       "                                           Before coding            2.000000   \n",
       "                                           While coding             3.000000   \n",
       "Male   No                  No              While coding             3.000000   \n",
       "                           Sometimes       Before and while coding  7.000000   \n",
       "                                           While coding             5.333333   \n",
       "                           Yes             All the time             7.000000   \n",
       "                                           Before and while coding  3.000000   \n",
       "                                           Before coding            3.000000   \n",
       "       Sometimes           No              Before coding            4.000000   \n",
       "                                           While coding             3.857143   \n",
       "                           Sometimes       All the time             3.000000   \n",
       "                                           Before and while coding  4.000000   \n",
       "                                           Before coding            2.500000   \n",
       "                                           While coding             2.615385   \n",
       "                           Yes             Before coding            2.500000   \n",
       "                                           While coding             3.700000   \n",
       "       Yes                 No              Before coding            1.250000   \n",
       "                                           While coding             1.800000   \n",
       "                           Sometimes       After coding             2.000000   \n",
       "                                           Before coding            1.000000   \n",
       "                                           No specific time         4.000000   \n",
       "                                           While coding             2.600000   \n",
       "                           Yes             Before coding            2.000000   \n",
       "                                           While coding             1.000000   \n",
       "\n",
       "                                                                    count  \\\n",
       "Gender CodingWithoutCoffee CoffeeSolveBugs CoffeeTime                       \n",
       "Female No                  No              Before coding                1   \n",
       "                           Sometimes       While coding                 1   \n",
       "                           Yes             While coding                 3   \n",
       "       Sometimes           No              While coding                 2   \n",
       "                           Sometimes       Before coding                3   \n",
       "                                           While coding                 6   \n",
       "                           Yes             Before coding                1   \n",
       "       Yes                 No              Before coding                1   \n",
       "                                           In the morning               2   \n",
       "                                           While coding                 1   \n",
       "                           Sometimes       Before coding                1   \n",
       "                                           In the morning               1   \n",
       "                           Yes             After coding                 1   \n",
       "                                           Before coding                1   \n",
       "                                           While coding                 1   \n",
       "Male   No                  No              While coding                 3   \n",
       "                           Sometimes       Before and while coding      1   \n",
       "                                           While coding                 3   \n",
       "                           Yes             All the time                 3   \n",
       "                                           Before and while coding      2   \n",
       "                                           Before coding                2   \n",
       "       Sometimes           No              Before coding                1   \n",
       "                                           While coding                 7   \n",
       "                           Sometimes       All the time                 1   \n",
       "                                           Before and while coding      1   \n",
       "                                           Before coding                4   \n",
       "                                           While coding                13   \n",
       "                           Yes             Before coding                2   \n",
       "                                           While coding                10   \n",
       "       Yes                 No              Before coding                4   \n",
       "                                           While coding                 5   \n",
       "                           Sometimes       After coding                 1   \n",
       "                                           Before coding                1   \n",
       "                                           No specific time             1   \n",
       "                                           While coding                 5   \n",
       "                           Yes             Before coding                3   \n",
       "                                           While coding                 1   \n",
       "\n",
       "                                                                    min  max  \n",
       "Gender CodingWithoutCoffee CoffeeSolveBugs CoffeeTime                         \n",
       "Female No                  No              Before coding              2    2  \n",
       "                           Sometimes       While coding               2    2  \n",
       "                           Yes             While coding               2    3  \n",
       "       Sometimes           No              While coding               1    2  \n",
       "                           Sometimes       Before coding              1    2  \n",
       "                                           While coding               2    3  \n",
       "                           Yes             Before coding              2    2  \n",
       "       Yes                 No              Before coding              1    1  \n",
       "                                           In the morning             1    1  \n",
       "                                           While coding               3    3  \n",
       "                           Sometimes       Before coding              2    2  \n",
       "                                           In the morning             1    1  \n",
       "                           Yes             After coding               7    7  \n",
       "                                           Before coding              2    2  \n",
       "                                           While coding               3    3  \n",
       "Male   No                  No              While coding               3    3  \n",
       "                           Sometimes       Before and while coding    7    7  \n",
       "                                           While coding               4    8  \n",
       "                           Yes             All the time               6    8  \n",
       "                                           Before and while coding    2    4  \n",
       "                                           Before coding              2    4  \n",
       "       Sometimes           No              Before coding              4    4  \n",
       "                                           While coding               2    6  \n",
       "                           Sometimes       All the time               3    3  \n",
       "                                           Before and while coding    4    4  \n",
       "                                           Before coding              1    4  \n",
       "                                           While coding               1    4  \n",
       "                           Yes             Before coding              2    3  \n",
       "                                           While coding               2    5  \n",
       "       Yes                 No              Before coding              1    2  \n",
       "                                           While coding               1    2  \n",
       "                           Sometimes       After coding               2    2  \n",
       "                                           Before coding              1    1  \n",
       "                                           No specific time           4    4  \n",
       "                                           While coding               2    4  \n",
       "                           Yes             Before coding              1    3  \n",
       "                                           While coding               1    1  "
      ]
     },
     "execution_count": 90,
     "metadata": {},
     "output_type": "execute_result"
    }
   ],
   "source": [
    "# Outliners - greske prilikom davanja podataka, osobe koje kazu da ne piju kafu dok kodiraju za vreme konzumiranja stave dok kodiraju\n",
    "\n",
    "df.groupby(['Gender', 'CodingWithoutCoffee', 'CoffeeSolveBugs', 'CoffeeTime']).CoffeeCupsPerDay.agg(['mean','count', 'min', 'max'])"
   ]
  },
  {
   "cell_type": "code",
   "execution_count": 91,
   "metadata": {},
   "outputs": [
    {
     "data": {
      "image/png": "[encoded data removed]",
      "text/plain": [
       "<Figure size 699.65x288 with 3 Axes>"
      ]
     },
     "metadata": {},
     "output_type": "display_data"
    }
   ],
   "source": [
    "g = sns.catplot(x=\"Gender\", hue=\"CoffeeSolveBugs\", col=\"CodingWithoutCoffee\",\n",
    "                data=df, kind=\"count\",\n",
    "                height=4, aspect=.7, sharex=False, sharey=False, palette=\"Pastel1\");"
   ]
  },
  {
   "cell_type": "code",
   "execution_count": 92,
   "metadata": {},
   "outputs": [
    {
     "data": {
      "text/plain": [
       "<seaborn.axisgrid.FacetGrid at 0x2781c137208>"
      ]
     },
     "execution_count": 92,
     "metadata": {},
     "output_type": "execute_result"
    },
    {
     "data": {
      "image/png": "[encoded data removed]",
      "text/plain": [
       "<Figure size 976.35x360 with 1 Axes>"
      ]
     },
     "metadata": {},
     "output_type": "display_data"
    }
   ],
   "source": [
    "sns.catplot(x=\"AgeRange\",y=\"CoffeeCupsPerDay\",data=df,hue=\"Gender\",aspect=2.5,kind=\"point\")"
   ]
  },
  {
   "cell_type": "code",
   "execution_count": 93,
   "metadata": {},
   "outputs": [
    {
     "data": {
      "image/png": "[encoded data removed]",
      "text/plain": [
       "<Figure size 576x288 with 1 Axes>"
      ]
     },
     "metadata": {},
     "output_type": "display_data"
    }
   ],
   "source": [
    "#Da li različite vrste kafe daju različiti uticaj na uspešnost programiranja?\n",
    "\n",
    "plt.figure(figsize=(8,4))\n",
    "ax = sns.countplot(x = \"CoffeeType\", hue = \"CoffeeSolveBugs\", data = df, palette=\"Pastel1\") \n",
    "ax.set_xticklabels(ax.get_xticklabels(), rotation=40, ha=\"right\")\n",
    "plt.tight_layout()\n",
    "plt.show()"
   ]
  },
  {
   "cell_type": "code",
   "execution_count": 94,
   "metadata": {},
   "outputs": [
    {
     "data": {
      "image/png": "[encoded data removed]",
      "text/plain": [
       "<Figure size 576x288 with 1 Axes>"
      ]
     },
     "metadata": {},
     "output_type": "display_data"
    }
   ],
   "source": [
    "plt.figure(figsize=(8,4))\n",
    "ax = sns.countplot(x = \"CoffeeType\", hue = \"CodingHours\", data = df, palette=\"colorblind\") \n",
    "ax.set_xticklabels(ax.get_xticklabels(), rotation=40, ha=\"right\")\n",
    "plt.tight_layout()\n",
    "plt.gca().legend(loc='center left', bbox_to_anchor=(1, 0.5), title='CodingHours')\n",
    "plt.show()"
   ]
  },
  {
   "cell_type": "code",
   "execution_count": 95,
   "metadata": {},
   "outputs": [
    {
     "data": {
      "text/plain": [
       "<seaborn.axisgrid.FacetGrid at 0x2781d4db5c8>"
      ]
     },
     "execution_count": 95,
     "metadata": {},
     "output_type": "execute_result"
    },
    {
     "data": {
      "image/png": "[encoded data removed]",
      "text/plain": [
       "<Figure size 976.35x360 with 1 Axes>"
      ]
     },
     "metadata": {},
     "output_type": "display_data"
    }
   ],
   "source": [
    "sns.FacetGrid(hue=\"Gender\",data=df,aspect=2.5,height=5).map(sns.kdeplot,\"CodingHours\",shade=True).add_legend()"
   ]
  },
  {
   "cell_type": "code",
   "execution_count": 96,
   "metadata": {},
   "outputs": [
    {
     "data": {
      "text/plain": [
       "<matplotlib.axes._subplots.AxesSubplot at 0x2781c079ec8>"
      ]
     },
     "execution_count": 96,
     "metadata": {},
     "output_type": "execute_result"
    },
    {
     "data": {
      "image/png": "[encoded data removed]",
      "text/plain": [
       "<Figure size 360x432 with 1 Axes>"
      ]
     },
     "metadata": {},
     "output_type": "display_data"
    }
   ],
   "source": [
    "df.boxplot('CoffeeCupsPerDay','Gender',rot = 30,figsize=(5,6))"
   ]
  },
  {
   "cell_type": "code",
   "execution_count": 150,
   "metadata": {},
   "outputs": [
    {
     "data": {
      "text/plain": [
       "<matplotlib.axes._subplots.AxesSubplot at 0x2781e054f08>"
      ]
     },
     "execution_count": 150,
     "metadata": {},
     "output_type": "execute_result"
    },
    {
     "data": {
      "image/png": "[encoded data removed]",
      "text/plain": [
       "<Figure size 360x432 with 1 Axes>"
      ]
     },
     "metadata": {},
     "output_type": "display_data"
    }
   ],
   "source": [
    "df.boxplot('CoffeeCupsPerDay','CodingHours',rot = 30,figsize=(5,6))"
   ]
  },
  {
   "cell_type": "code",
   "execution_count": 97,
   "metadata": {},
   "outputs": [
    {
     "data": {
      "text/plain": [
       "<matplotlib.axes._subplots.AxesSubplot at 0x2781c01f508>"
      ]
     },
     "execution_count": 97,
     "metadata": {},
     "output_type": "execute_result"
    },
    {
     "data": {
      "image/png": "[encoded data removed]",
      "text/plain": [
       "<Figure size 360x432 with 1 Axes>"
      ]
     },
     "metadata": {},
     "output_type": "display_data"
    }
   ],
   "source": [
    "df.boxplot('CoffeeCupsPerDay','CoffeeTime',rot = 30,figsize=(5,6))"
   ]
  },
  {
   "cell_type": "code",
   "execution_count": 98,
   "metadata": {},
   "outputs": [
    {
     "data": {
      "text/plain": [
       "<matplotlib.axes._subplots.AxesSubplot at 0x2781bedb888>"
      ]
     },
     "execution_count": 98,
     "metadata": {},
     "output_type": "execute_result"
    },
    {
     "data": {
      "image/png": "[encoded data removed]",
      "text/plain": [
       "<Figure size 360x432 with 1 Axes>"
      ]
     },
     "metadata": {},
     "output_type": "display_data"
    }
   ],
   "source": [
    "df.boxplot('CoffeeCupsPerDay','CoffeeType',rot = 30,figsize=(5,6))"
   ]
  },
  {
   "cell_type": "code",
   "execution_count": 99,
   "metadata": {},
   "outputs": [
    {
     "data": {
      "text/plain": [
       "<matplotlib.axes._subplots.AxesSubplot at 0x2781aa8e188>"
      ]
     },
     "execution_count": 99,
     "metadata": {},
     "output_type": "execute_result"
    },
    {
     "data": {
      "image/png": "[encoded data removed]",
      "text/plain": [
       "<Figure size 360x432 with 1 Axes>"
      ]
     },
     "metadata": {},
     "output_type": "display_data"
    }
   ],
   "source": [
    "df.boxplot('CoffeeCupsPerDay','AgeRange',rot = 30,figsize=(5,6))"
   ]
  },
  {
   "cell_type": "code",
   "execution_count": 100,
   "metadata": {},
   "outputs": [
    {
     "data": {
      "text/plain": [
       "<matplotlib.axes._subplots.AxesSubplot at 0x27818a11cc8>"
      ]
     },
     "execution_count": 100,
     "metadata": {},
     "output_type": "execute_result"
    },
    {
     "data": {
      "image/png": "[encoded data removed]",
      "text/plain": [
       "<Figure size 360x432 with 1 Axes>"
      ]
     },
     "metadata": {},
     "output_type": "display_data"
    }
   ],
   "source": [
    "df.boxplot('CoffeeCupsPerDay','CoffeeSolveBugs',rot = 30,figsize=(5,6))"
   ]
  },
  {
   "cell_type": "code",
   "execution_count": 101,
   "metadata": {},
   "outputs": [
    {
     "data": {
      "text/plain": [
       "<seaborn.axisgrid.FacetGrid at 0x278189d6f08>"
      ]
     },
     "execution_count": 101,
     "metadata": {},
     "output_type": "execute_result"
    },
    {
     "data": {
      "image/png": "[encoded data removed]",
      "text/plain": [
       "<Figure size 436.35x360 with 1 Axes>"
      ]
     },
     "metadata": {},
     "output_type": "display_data"
    }
   ],
   "source": [
    "sns.lmplot(x=\"CodingHours\",y=\"CoffeeCupsPerDay\",hue=\"Gender\",data=df)"
   ]
  },
  {
   "cell_type": "code",
   "execution_count": 102,
   "metadata": {},
   "outputs": [
    {
     "data": {
      "text/plain": [
       "<seaborn.axisgrid.FacetGrid at 0x2781d5e2bc8>"
      ]
     },
     "execution_count": 102,
     "metadata": {},
     "output_type": "execute_result"
    },
    {
     "data": {
      "image/png": "[encoded data removed]",
      "text/plain": [
       "<Figure size 454.85x360 with 1 Axes>"
      ]
     },
     "metadata": {},
     "output_type": "display_data"
    }
   ],
   "source": [
    "sns.lmplot(x=\"CodingHours\",y=\"CoffeeCupsPerDay\",hue=\"CoffeeSolveBugs\",data=df)"
   ]
  },
  {
   "cell_type": "markdown",
   "metadata": {},
   "source": [
    "### Data Wrangling"
   ]
  },
  {
   "cell_type": "code",
   "execution_count": 103,
   "metadata": {},
   "outputs": [
    {
     "name": "stdout",
     "output_type": "stream",
     "text": [
      "CoffeeType             1\n",
      "Gender                 0\n",
      "CoffeeCupsPerDay       0\n",
      "CodingHours            0\n",
      "CoffeeTime             0\n",
      "CodingWithoutCoffee    0\n",
      "CoffeeSolveBugs        0\n",
      "AgeRange               2\n",
      "Country                0\n",
      "dtype: int64\n"
     ]
    }
   ],
   "source": [
    "print(df.isnull().sum())"
   ]
  },
  {
   "cell_type": "code",
   "execution_count": 104,
   "metadata": {},
   "outputs": [
    {
     "data": {
      "text/plain": [
       "<matplotlib.axes._subplots.AxesSubplot at 0x2781d940708>"
      ]
     },
     "execution_count": 104,
     "metadata": {},
     "output_type": "execute_result"
    },
    {
     "data": {
      "image/png": "[encoded data removed]",
      "text/plain": [
       "<Figure size 432x288 with 1 Axes>"
      ]
     },
     "metadata": {},
     "output_type": "display_data"
    }
   ],
   "source": [
    "sns.heatmap(df.isnull(), yticklabels=False, cbar=False)"
   ]
  },
  {
   "cell_type": "code",
   "execution_count": 105,
   "metadata": {},
   "outputs": [],
   "source": [
    "df['CoffeeType'] = df['CoffeeType'].fillna(df['CoffeeType'].value_counts().index[0])"
   ]
  },
  {
   "cell_type": "code",
   "execution_count": 106,
   "metadata": {},
   "outputs": [
    {
     "name": "stdout",
     "output_type": "stream",
     "text": [
      "2\n"
     ]
    }
   ],
   "source": [
    "print(df.isnull().values.sum())"
   ]
  },
  {
   "cell_type": "code",
   "execution_count": 107,
   "metadata": {},
   "outputs": [],
   "source": [
    "df['AgeRange'] = df['AgeRange'].fillna(df['AgeRange'].value_counts().index[0])"
   ]
  },
  {
   "cell_type": "code",
   "execution_count": 108,
   "metadata": {},
   "outputs": [
    {
     "name": "stdout",
     "output_type": "stream",
     "text": [
      "0\n"
     ]
    }
   ],
   "source": [
    "print(df.isnull().values.sum())"
   ]
  },
  {
   "cell_type": "code",
   "execution_count": 109,
   "metadata": {},
   "outputs": [
    {
     "name": "stdout",
     "output_type": "stream",
     "text": [
      "number of data: 100\n"
     ]
    }
   ],
   "source": [
    "print(\"number of data: \"+ str(len(df.index)))"
   ]
  },
  {
   "cell_type": "code",
   "execution_count": 110,
   "metadata": {},
   "outputs": [],
   "source": [
    "df.drop('Country', axis=1, inplace=True)"
   ]
  },
  {
   "cell_type": "code",
   "execution_count": 111,
   "metadata": {},
   "outputs": [
    {
     "data": {
      "text/html": [
       "<div>\n",
       "<style scoped>\n",
       "    .dataframe tbody tr th:only-of-type {\n",
       "        vertical-align: middle;\n",
       "    }\n",
       "\n",
       "    .dataframe tbody tr th {\n",
       "        vertical-align: top;\n",
       "    }\n",
       "\n",
       "    .dataframe thead th {\n",
       "        text-align: right;\n",
       "    }\n",
       "</style>\n",
       "<table border=\"1\" class=\"dataframe\">\n",
       "  <thead>\n",
       "    <tr style=\"text-align: right;\">\n",
       "      <th></th>\n",
       "      <th>CoffeeType</th>\n",
       "      <th>Gender</th>\n",
       "      <th>CoffeeCupsPerDay</th>\n",
       "      <th>CodingHours</th>\n",
       "      <th>CoffeeTime</th>\n",
       "      <th>CodingWithoutCoffee</th>\n",
       "      <th>CoffeeSolveBugs</th>\n",
       "      <th>AgeRange</th>\n",
       "    </tr>\n",
       "  </thead>\n",
       "  <tbody>\n",
       "    <tr>\n",
       "      <th>0</th>\n",
       "      <td>Caffè latte</td>\n",
       "      <td>Female</td>\n",
       "      <td>2</td>\n",
       "      <td>8</td>\n",
       "      <td>Before coding</td>\n",
       "      <td>Yes</td>\n",
       "      <td>Sometimes</td>\n",
       "      <td>18 to 29</td>\n",
       "    </tr>\n",
       "    <tr>\n",
       "      <th>1</th>\n",
       "      <td>Americano</td>\n",
       "      <td>Female</td>\n",
       "      <td>2</td>\n",
       "      <td>3</td>\n",
       "      <td>Before coding</td>\n",
       "      <td>Yes</td>\n",
       "      <td>Yes</td>\n",
       "      <td>30 to 39</td>\n",
       "    </tr>\n",
       "    <tr>\n",
       "      <th>2</th>\n",
       "      <td>Nescafe</td>\n",
       "      <td>Female</td>\n",
       "      <td>3</td>\n",
       "      <td>5</td>\n",
       "      <td>While coding</td>\n",
       "      <td>No</td>\n",
       "      <td>Yes</td>\n",
       "      <td>18 to 29</td>\n",
       "    </tr>\n",
       "    <tr>\n",
       "      <th>3</th>\n",
       "      <td>Nescafe</td>\n",
       "      <td>Male</td>\n",
       "      <td>2</td>\n",
       "      <td>8</td>\n",
       "      <td>Before coding</td>\n",
       "      <td>No</td>\n",
       "      <td>Yes</td>\n",
       "      <td>18 to 29</td>\n",
       "    </tr>\n",
       "    <tr>\n",
       "      <th>4</th>\n",
       "      <td>Turkish</td>\n",
       "      <td>Male</td>\n",
       "      <td>3</td>\n",
       "      <td>10</td>\n",
       "      <td>While coding</td>\n",
       "      <td>Sometimes</td>\n",
       "      <td>No</td>\n",
       "      <td>18 to 29</td>\n",
       "    </tr>\n",
       "  </tbody>\n",
       "</table>\n",
       "</div>"
      ],
      "text/plain": [
       "    CoffeeType  Gender  CoffeeCupsPerDay  CodingHours     CoffeeTime  \\\n",
       "0  Caffè latte  Female                 2            8  Before coding   \n",
       "1    Americano  Female                 2            3  Before coding   \n",
       "2      Nescafe  Female                 3            5   While coding   \n",
       "3      Nescafe    Male                 2            8  Before coding   \n",
       "4      Turkish    Male                 3           10   While coding   \n",
       "\n",
       "  CodingWithoutCoffee CoffeeSolveBugs  AgeRange  \n",
       "0                 Yes       Sometimes  18 to 29  \n",
       "1                 Yes             Yes  30 to 39  \n",
       "2                  No             Yes  18 to 29  \n",
       "3                  No             Yes  18 to 29  \n",
       "4           Sometimes              No  18 to 29  "
      ]
     },
     "execution_count": 111,
     "metadata": {},
     "output_type": "execute_result"
    }
   ],
   "source": [
    "df.head()"
   ]
  },
  {
   "cell_type": "code",
   "execution_count": 112,
   "metadata": {},
   "outputs": [
    {
     "data": {
      "text/plain": [
       "CoffeeType             object\n",
       "Gender                 object\n",
       "CoffeeCupsPerDay        int64\n",
       "CodingHours             int64\n",
       "CoffeeTime             object\n",
       "CodingWithoutCoffee    object\n",
       "CoffeeSolveBugs        object\n",
       "AgeRange               object\n",
       "dtype: object"
      ]
     },
     "execution_count": 112,
     "metadata": {},
     "output_type": "execute_result"
    }
   ],
   "source": [
    "df.dtypes"
   ]
  },
  {
   "cell_type": "code",
   "execution_count": 113,
   "metadata": {},
   "outputs": [
    {
     "data": {
      "text/plain": [
       "CoffeeType             category\n",
       "Gender                   object\n",
       "CoffeeCupsPerDay          int64\n",
       "CodingHours               int64\n",
       "CoffeeTime             category\n",
       "CodingWithoutCoffee    category\n",
       "CoffeeSolveBugs        category\n",
       "AgeRange                 object\n",
       "dtype: object"
      ]
     },
     "execution_count": 113,
     "metadata": {},
     "output_type": "execute_result"
    }
   ],
   "source": [
    "df[\"CoffeeTime\"] = df[\"CoffeeTime\"].astype('category')\n",
    "df[\"CodingWithoutCoffee\"] = df[\"CodingWithoutCoffee\"].astype('category')\n",
    "df[\"CoffeeSolveBugs\"] = df[\"CoffeeSolveBugs\"].astype('category')\n",
    "df[\"CoffeeType\"] = df[\"CoffeeType\"].astype('category')\n",
    "df.dtypes"
   ]
  },
  {
   "cell_type": "code",
   "execution_count": 114,
   "metadata": {},
   "outputs": [],
   "source": [
    "lb_make = LabelEncoder()\n",
    "df[\"CoffeeType_code\"] = lb_make.fit_transform(df[\"CoffeeType\"])"
   ]
  },
  {
   "cell_type": "code",
   "execution_count": 115,
   "metadata": {},
   "outputs": [
    {
     "name": "stdout",
     "output_type": "stream",
     "text": [
      "CoffeeType\n",
      " \n",
      "2     Caffè latte    \n",
      "1     Americano      \n",
      "6     Nescafe        \n",
      "7     Turkish        \n",
      "0     American Coffee\n",
      "5     Espresso (Short Black)\n",
      "3     Cappuccino     \n",
      "4     Double Espresso (Doppio)\n"
     ]
    }
   ],
   "source": [
    "code = df[\"CoffeeType_code\"].unique()\n",
    "real =  df[\"CoffeeType\"].unique()\n",
    "print('CoffeeType')\n",
    "print(' ')\n",
    "for c,r in zip(code,real):\n",
    "    print( '{:>0}     {:<15}'.format(c,r))"
   ]
  },
  {
   "cell_type": "code",
   "execution_count": 116,
   "metadata": {},
   "outputs": [],
   "source": [
    "df[\"CodingWithoutCoffee_code\"] = df[\"CodingWithoutCoffee\"].cat.codes"
   ]
  },
  {
   "cell_type": "code",
   "execution_count": 117,
   "metadata": {},
   "outputs": [
    {
     "name": "stdout",
     "output_type": "stream",
     "text": [
      "CodingWithoutCoffee\n",
      " \n",
      "2     Yes            \n",
      "0     No             \n",
      "1     Sometimes      \n"
     ]
    }
   ],
   "source": [
    "code = df[\"CodingWithoutCoffee_code\"].unique()\n",
    "real =  df[\"CodingWithoutCoffee\"].unique()\n",
    "print('CodingWithoutCoffee')\n",
    "print(' ')\n",
    "for c,r in zip(code,real):\n",
    "    print( '{:>0}     {:<15}'.format(c,r))"
   ]
  },
  {
   "cell_type": "code",
   "execution_count": 118,
   "metadata": {},
   "outputs": [],
   "source": [
    "df[\"CoffeeSolveBugs_code\"] = df[\"CoffeeSolveBugs\"].cat.codes"
   ]
  },
  {
   "cell_type": "code",
   "execution_count": 119,
   "metadata": {},
   "outputs": [
    {
     "name": "stdout",
     "output_type": "stream",
     "text": [
      "CoffeeSolveBugs\n",
      " \n",
      "1     Sometimes      \n",
      "2     Yes            \n",
      "0     No             \n"
     ]
    }
   ],
   "source": [
    "code = df[\"CoffeeSolveBugs_code\"].unique()\n",
    "real =  df[\"CoffeeSolveBugs\"].unique()\n",
    "print('CoffeeSolveBugs')\n",
    "print(' ')\n",
    "for c,r in zip(code,real):\n",
    "    print( '{:>0}     {:<15}'.format(c,r))"
   ]
  },
  {
   "cell_type": "code",
   "execution_count": 120,
   "metadata": {},
   "outputs": [
    {
     "data": {
      "text/html": [
       "<div>\n",
       "<style scoped>\n",
       "    .dataframe tbody tr th:only-of-type {\n",
       "        vertical-align: middle;\n",
       "    }\n",
       "\n",
       "    .dataframe tbody tr th {\n",
       "        vertical-align: top;\n",
       "    }\n",
       "\n",
       "    .dataframe thead th {\n",
       "        text-align: right;\n",
       "    }\n",
       "</style>\n",
       "<table border=\"1\" class=\"dataframe\">\n",
       "  <thead>\n",
       "    <tr style=\"text-align: right;\">\n",
       "      <th></th>\n",
       "      <th>CoffeeType</th>\n",
       "      <th>Gender</th>\n",
       "      <th>CoffeeCupsPerDay</th>\n",
       "      <th>CodingHours</th>\n",
       "      <th>CoffeeTime</th>\n",
       "      <th>CodingWithoutCoffee</th>\n",
       "      <th>CoffeeSolveBugs</th>\n",
       "      <th>AgeRange</th>\n",
       "      <th>CoffeeType_code</th>\n",
       "      <th>CodingWithoutCoffee_code</th>\n",
       "      <th>CoffeeSolveBugs_code</th>\n",
       "    </tr>\n",
       "  </thead>\n",
       "  <tbody>\n",
       "    <tr>\n",
       "      <th>0</th>\n",
       "      <td>Caffè latte</td>\n",
       "      <td>Female</td>\n",
       "      <td>2</td>\n",
       "      <td>8</td>\n",
       "      <td>Before coding</td>\n",
       "      <td>Yes</td>\n",
       "      <td>Sometimes</td>\n",
       "      <td>18 to 29</td>\n",
       "      <td>2</td>\n",
       "      <td>2</td>\n",
       "      <td>1</td>\n",
       "    </tr>\n",
       "    <tr>\n",
       "      <th>1</th>\n",
       "      <td>Americano</td>\n",
       "      <td>Female</td>\n",
       "      <td>2</td>\n",
       "      <td>3</td>\n",
       "      <td>Before coding</td>\n",
       "      <td>Yes</td>\n",
       "      <td>Yes</td>\n",
       "      <td>30 to 39</td>\n",
       "      <td>1</td>\n",
       "      <td>2</td>\n",
       "      <td>2</td>\n",
       "    </tr>\n",
       "    <tr>\n",
       "      <th>2</th>\n",
       "      <td>Nescafe</td>\n",
       "      <td>Female</td>\n",
       "      <td>3</td>\n",
       "      <td>5</td>\n",
       "      <td>While coding</td>\n",
       "      <td>No</td>\n",
       "      <td>Yes</td>\n",
       "      <td>18 to 29</td>\n",
       "      <td>6</td>\n",
       "      <td>0</td>\n",
       "      <td>2</td>\n",
       "    </tr>\n",
       "    <tr>\n",
       "      <th>3</th>\n",
       "      <td>Nescafe</td>\n",
       "      <td>Male</td>\n",
       "      <td>2</td>\n",
       "      <td>8</td>\n",
       "      <td>Before coding</td>\n",
       "      <td>No</td>\n",
       "      <td>Yes</td>\n",
       "      <td>18 to 29</td>\n",
       "      <td>6</td>\n",
       "      <td>0</td>\n",
       "      <td>2</td>\n",
       "    </tr>\n",
       "    <tr>\n",
       "      <th>4</th>\n",
       "      <td>Turkish</td>\n",
       "      <td>Male</td>\n",
       "      <td>3</td>\n",
       "      <td>10</td>\n",
       "      <td>While coding</td>\n",
       "      <td>Sometimes</td>\n",
       "      <td>No</td>\n",
       "      <td>18 to 29</td>\n",
       "      <td>7</td>\n",
       "      <td>1</td>\n",
       "      <td>0</td>\n",
       "    </tr>\n",
       "  </tbody>\n",
       "</table>\n",
       "</div>"
      ],
      "text/plain": [
       "    CoffeeType  Gender  CoffeeCupsPerDay  CodingHours     CoffeeTime  \\\n",
       "0  Caffè latte  Female                 2            8  Before coding   \n",
       "1    Americano  Female                 2            3  Before coding   \n",
       "2      Nescafe  Female                 3            5   While coding   \n",
       "3      Nescafe    Male                 2            8  Before coding   \n",
       "4      Turkish    Male                 3           10   While coding   \n",
       "\n",
       "  CodingWithoutCoffee CoffeeSolveBugs  AgeRange  CoffeeType_code  \\\n",
       "0                 Yes       Sometimes  18 to 29                2   \n",
       "1                 Yes             Yes  30 to 39                1   \n",
       "2                  No             Yes  18 to 29                6   \n",
       "3                  No             Yes  18 to 29                6   \n",
       "4           Sometimes              No  18 to 29                7   \n",
       "\n",
       "   CodingWithoutCoffee_code  CoffeeSolveBugs_code  \n",
       "0                         2                     1  \n",
       "1                         2                     2  \n",
       "2                         0                     2  \n",
       "3                         0                     2  \n",
       "4                         1                     0  "
      ]
     },
     "execution_count": 120,
     "metadata": {},
     "output_type": "execute_result"
    }
   ],
   "source": [
    "df.head()"
   ]
  },
  {
   "cell_type": "code",
   "execution_count": 121,
   "metadata": {},
   "outputs": [],
   "source": [
    "df[\"Gender_code\"] = np.where(df[\"Gender\"].str.contains(\"Fe\"), 0, 1)"
   ]
  },
  {
   "cell_type": "code",
   "execution_count": 122,
   "metadata": {},
   "outputs": [
    {
     "name": "stdout",
     "output_type": "stream",
     "text": [
      "Gender\n",
      " \n",
      "0     Female         \n",
      "1     Male           \n"
     ]
    }
   ],
   "source": [
    "code = df[\"Gender_code\"].unique()\n",
    "real =  df[\"Gender\"].unique()\n",
    "print('Gender')\n",
    "print(' ')\n",
    "for c,r in zip(code,real):\n",
    "    print( '{:>0}     {:<15}'.format(c,r))"
   ]
  },
  {
   "cell_type": "code",
   "execution_count": 123,
   "metadata": {},
   "outputs": [],
   "source": [
    "df_age = pd.DataFrame({'AgeRange': ['12 to 17', '18 to 29', '30 to 39', '40 to 49','50 to 59']})\n",
    "\n",
    "def split_mean(x):\n",
    "    split_list = x.split(' to ')\n",
    "    mean = (float(split_list[0])+float(split_list[1]))/2\n",
    "    return mean\n",
    "\n",
    "df['Age_mean'] = df['AgeRange'].apply(lambda x: split_mean(x))"
   ]
  },
  {
   "cell_type": "code",
   "execution_count": 124,
   "metadata": {},
   "outputs": [
    {
     "name": "stdout",
     "output_type": "stream",
     "text": [
      "AgeRange\n",
      " \n",
      "23.5     18 to 29       \n",
      "34.5     30 to 39       \n",
      "44.5     40 to 49       \n",
      "14.5     12 to 17       \n",
      "54.5     50 to 59       \n"
     ]
    }
   ],
   "source": [
    "code = df[\"Age_mean\"].unique()\n",
    "real =  df[\"AgeRange\"].unique()\n",
    "print('AgeRange')\n",
    "print(' ')\n",
    "for c,r in zip(code,real):\n",
    "    print( '{:>0}     {:<15}'.format(c,r))"
   ]
  },
  {
   "cell_type": "code",
   "execution_count": 125,
   "metadata": {},
   "outputs": [],
   "source": [
    "df['CoffeeTime_code'] = df['CoffeeTime'].map( {'No specific time':0, 'In the morning':1, 'Before coding':2, \n",
    "                                               'Before and while coding':3, 'While coding':4, 'After coding':5, \n",
    "                                               'All the time':6  })"
   ]
  },
  {
   "cell_type": "code",
   "execution_count": 126,
   "metadata": {},
   "outputs": [
    {
     "name": "stdout",
     "output_type": "stream",
     "text": [
      "CoffeeTime\n",
      " \n",
      "2     Before coding  \n",
      "4     While coding   \n",
      "3     Before and while coding\n",
      "1     In the morning \n",
      "6     All the time   \n",
      "5     After coding   \n",
      "0     No specific time\n"
     ]
    }
   ],
   "source": [
    "code = df[\"CoffeeTime_code\"].unique()\n",
    "real =  df[\"CoffeeTime\"].unique()\n",
    "print('CoffeeTime')\n",
    "print(' ')\n",
    "for c,r in zip(code,real):\n",
    "    print( '{:>0}     {:<15}'.format(c,r))"
   ]
  },
  {
   "cell_type": "code",
   "execution_count": 127,
   "metadata": {},
   "outputs": [],
   "source": [
    "df.drop('AgeRange', axis=1, inplace=True)\n",
    "df.drop('CodingWithoutCoffee', axis=1, inplace=True)\n",
    "df.drop('CoffeeSolveBugs', axis=1, inplace=True)\n",
    "df.drop('CoffeeType', axis=1, inplace=True)\n",
    "df.drop('Gender', axis=1, inplace=True)\n",
    "df.drop('CoffeeTime', axis=1, inplace=True)"
   ]
  },
  {
   "cell_type": "code",
   "execution_count": 128,
   "metadata": {},
   "outputs": [
    {
     "data": {
      "text/html": [
       "<div>\n",
       "<style scoped>\n",
       "    .dataframe tbody tr th:only-of-type {\n",
       "        vertical-align: middle;\n",
       "    }\n",
       "\n",
       "    .dataframe tbody tr th {\n",
       "        vertical-align: top;\n",
       "    }\n",
       "\n",
       "    .dataframe thead th {\n",
       "        text-align: right;\n",
       "    }\n",
       "</style>\n",
       "<table border=\"1\" class=\"dataframe\">\n",
       "  <thead>\n",
       "    <tr style=\"text-align: right;\">\n",
       "      <th></th>\n",
       "      <th>CoffeeCupsPerDay</th>\n",
       "      <th>CodingHours</th>\n",
       "      <th>CoffeeType_code</th>\n",
       "      <th>CodingWithoutCoffee_code</th>\n",
       "      <th>CoffeeSolveBugs_code</th>\n",
       "      <th>Gender_code</th>\n",
       "      <th>Age_mean</th>\n",
       "      <th>CoffeeTime_code</th>\n",
       "    </tr>\n",
       "  </thead>\n",
       "  <tbody>\n",
       "    <tr>\n",
       "      <th>0</th>\n",
       "      <td>2</td>\n",
       "      <td>8</td>\n",
       "      <td>2</td>\n",
       "      <td>2</td>\n",
       "      <td>1</td>\n",
       "      <td>0</td>\n",
       "      <td>23.5</td>\n",
       "      <td>2</td>\n",
       "    </tr>\n",
       "    <tr>\n",
       "      <th>1</th>\n",
       "      <td>2</td>\n",
       "      <td>3</td>\n",
       "      <td>1</td>\n",
       "      <td>2</td>\n",
       "      <td>2</td>\n",
       "      <td>0</td>\n",
       "      <td>34.5</td>\n",
       "      <td>2</td>\n",
       "    </tr>\n",
       "    <tr>\n",
       "      <th>2</th>\n",
       "      <td>3</td>\n",
       "      <td>5</td>\n",
       "      <td>6</td>\n",
       "      <td>0</td>\n",
       "      <td>2</td>\n",
       "      <td>0</td>\n",
       "      <td>23.5</td>\n",
       "      <td>4</td>\n",
       "    </tr>\n",
       "    <tr>\n",
       "      <th>3</th>\n",
       "      <td>2</td>\n",
       "      <td>8</td>\n",
       "      <td>6</td>\n",
       "      <td>0</td>\n",
       "      <td>2</td>\n",
       "      <td>1</td>\n",
       "      <td>23.5</td>\n",
       "      <td>2</td>\n",
       "    </tr>\n",
       "    <tr>\n",
       "      <th>4</th>\n",
       "      <td>3</td>\n",
       "      <td>10</td>\n",
       "      <td>7</td>\n",
       "      <td>1</td>\n",
       "      <td>0</td>\n",
       "      <td>1</td>\n",
       "      <td>23.5</td>\n",
       "      <td>4</td>\n",
       "    </tr>\n",
       "  </tbody>\n",
       "</table>\n",
       "</div>"
      ],
      "text/plain": [
       "   CoffeeCupsPerDay  CodingHours  CoffeeType_code  CodingWithoutCoffee_code  \\\n",
       "0                 2            8                2                         2   \n",
       "1                 2            3                1                         2   \n",
       "2                 3            5                6                         0   \n",
       "3                 2            8                6                         0   \n",
       "4                 3           10                7                         1   \n",
       "\n",
       "   CoffeeSolveBugs_code  Gender_code  Age_mean CoffeeTime_code  \n",
       "0                     1            0      23.5               2  \n",
       "1                     2            0      34.5               2  \n",
       "2                     2            0      23.5               4  \n",
       "3                     2            1      23.5               2  \n",
       "4                     0            1      23.5               4  "
      ]
     },
     "execution_count": 128,
     "metadata": {},
     "output_type": "execute_result"
    }
   ],
   "source": [
    "df.head()"
   ]
  },
  {
   "cell_type": "markdown",
   "metadata": {},
   "source": [
    "### Model Development, Train data, Predictions"
   ]
  },
  {
   "cell_type": "code",
   "execution_count": 129,
   "metadata": {},
   "outputs": [
    {
     "data": {
      "text/html": [
       "<div>\n",
       "<style scoped>\n",
       "    .dataframe tbody tr th:only-of-type {\n",
       "        vertical-align: middle;\n",
       "    }\n",
       "\n",
       "    .dataframe tbody tr th {\n",
       "        vertical-align: top;\n",
       "    }\n",
       "\n",
       "    .dataframe thead th {\n",
       "        text-align: right;\n",
       "    }\n",
       "</style>\n",
       "<table border=\"1\" class=\"dataframe\">\n",
       "  <thead>\n",
       "    <tr style=\"text-align: right;\">\n",
       "      <th></th>\n",
       "      <th>CoffeeCupsPerDay</th>\n",
       "      <th>CodingHours</th>\n",
       "      <th>CoffeeType_code</th>\n",
       "      <th>CodingWithoutCoffee_code</th>\n",
       "      <th>CoffeeSolveBugs_code</th>\n",
       "      <th>Gender_code</th>\n",
       "      <th>Age_mean</th>\n",
       "    </tr>\n",
       "  </thead>\n",
       "  <tbody>\n",
       "    <tr>\n",
       "      <th>CoffeeCupsPerDay</th>\n",
       "      <td>1.000000</td>\n",
       "      <td>0.313692</td>\n",
       "      <td>-0.042295</td>\n",
       "      <td>-0.421552</td>\n",
       "      <td>0.250406</td>\n",
       "      <td>0.229175</td>\n",
       "      <td>-0.060245</td>\n",
       "    </tr>\n",
       "    <tr>\n",
       "      <th>CodingHours</th>\n",
       "      <td>0.313692</td>\n",
       "      <td>1.000000</td>\n",
       "      <td>-0.055981</td>\n",
       "      <td>-0.189742</td>\n",
       "      <td>0.049225</td>\n",
       "      <td>0.231018</td>\n",
       "      <td>-0.174153</td>\n",
       "    </tr>\n",
       "    <tr>\n",
       "      <th>CoffeeType_code</th>\n",
       "      <td>-0.042295</td>\n",
       "      <td>-0.055981</td>\n",
       "      <td>1.000000</td>\n",
       "      <td>0.044377</td>\n",
       "      <td>-0.091203</td>\n",
       "      <td>-0.007130</td>\n",
       "      <td>0.121414</td>\n",
       "    </tr>\n",
       "    <tr>\n",
       "      <th>CodingWithoutCoffee_code</th>\n",
       "      <td>-0.421552</td>\n",
       "      <td>-0.189742</td>\n",
       "      <td>0.044377</td>\n",
       "      <td>1.000000</td>\n",
       "      <td>-0.236429</td>\n",
       "      <td>-0.037595</td>\n",
       "      <td>0.226343</td>\n",
       "    </tr>\n",
       "    <tr>\n",
       "      <th>CoffeeSolveBugs_code</th>\n",
       "      <td>0.250406</td>\n",
       "      <td>0.049225</td>\n",
       "      <td>-0.091203</td>\n",
       "      <td>-0.236429</td>\n",
       "      <td>1.000000</td>\n",
       "      <td>0.023572</td>\n",
       "      <td>-0.060298</td>\n",
       "    </tr>\n",
       "    <tr>\n",
       "      <th>Gender_code</th>\n",
       "      <td>0.229175</td>\n",
       "      <td>0.231018</td>\n",
       "      <td>-0.007130</td>\n",
       "      <td>-0.037595</td>\n",
       "      <td>0.023572</td>\n",
       "      <td>1.000000</td>\n",
       "      <td>0.101614</td>\n",
       "    </tr>\n",
       "    <tr>\n",
       "      <th>Age_mean</th>\n",
       "      <td>-0.060245</td>\n",
       "      <td>-0.174153</td>\n",
       "      <td>0.121414</td>\n",
       "      <td>0.226343</td>\n",
       "      <td>-0.060298</td>\n",
       "      <td>0.101614</td>\n",
       "      <td>1.000000</td>\n",
       "    </tr>\n",
       "  </tbody>\n",
       "</table>\n",
       "</div>"
      ],
      "text/plain": [
       "                          CoffeeCupsPerDay  CodingHours  CoffeeType_code  \\\n",
       "CoffeeCupsPerDay                  1.000000     0.313692        -0.042295   \n",
       "CodingHours                       0.313692     1.000000        -0.055981   \n",
       "CoffeeType_code                  -0.042295    -0.055981         1.000000   \n",
       "CodingWithoutCoffee_code         -0.421552    -0.189742         0.044377   \n",
       "CoffeeSolveBugs_code              0.250406     0.049225        -0.091203   \n",
       "Gender_code                       0.229175     0.231018        -0.007130   \n",
       "Age_mean                         -0.060245    -0.174153         0.121414   \n",
       "\n",
       "                          CodingWithoutCoffee_code  CoffeeSolveBugs_code  \\\n",
       "CoffeeCupsPerDay                         -0.421552              0.250406   \n",
       "CodingHours                              -0.189742              0.049225   \n",
       "CoffeeType_code                           0.044377             -0.091203   \n",
       "CodingWithoutCoffee_code                  1.000000             -0.236429   \n",
       "CoffeeSolveBugs_code                     -0.236429              1.000000   \n",
       "Gender_code                              -0.037595              0.023572   \n",
       "Age_mean                                  0.226343             -0.060298   \n",
       "\n",
       "                          Gender_code  Age_mean  \n",
       "CoffeeCupsPerDay             0.229175 -0.060245  \n",
       "CodingHours                  0.231018 -0.174153  \n",
       "CoffeeType_code             -0.007130  0.121414  \n",
       "CodingWithoutCoffee_code    -0.037595  0.226343  \n",
       "CoffeeSolveBugs_code         0.023572 -0.060298  \n",
       "Gender_code                  1.000000  0.101614  \n",
       "Age_mean                     0.101614  1.000000  "
      ]
     },
     "execution_count": 129,
     "metadata": {},
     "output_type": "execute_result"
    }
   ],
   "source": [
    "df.corr()"
   ]
  },
  {
   "cell_type": "code",
   "execution_count": 130,
   "metadata": {},
   "outputs": [
    {
     "data": {
      "text/html": [
       "<div>\n",
       "<style scoped>\n",
       "    .dataframe tbody tr th:only-of-type {\n",
       "        vertical-align: middle;\n",
       "    }\n",
       "\n",
       "    .dataframe tbody tr th {\n",
       "        vertical-align: top;\n",
       "    }\n",
       "\n",
       "    .dataframe thead th {\n",
       "        text-align: right;\n",
       "    }\n",
       "</style>\n",
       "<table border=\"1\" class=\"dataframe\">\n",
       "  <thead>\n",
       "    <tr style=\"text-align: right;\">\n",
       "      <th></th>\n",
       "      <th>CoffeeCupsPerDay</th>\n",
       "      <th>Gender_code</th>\n",
       "      <th>CodingHours</th>\n",
       "    </tr>\n",
       "  </thead>\n",
       "  <tbody>\n",
       "    <tr>\n",
       "      <th>0</th>\n",
       "      <td>2</td>\n",
       "      <td>0</td>\n",
       "      <td>8</td>\n",
       "    </tr>\n",
       "    <tr>\n",
       "      <th>1</th>\n",
       "      <td>2</td>\n",
       "      <td>0</td>\n",
       "      <td>3</td>\n",
       "    </tr>\n",
       "    <tr>\n",
       "      <th>2</th>\n",
       "      <td>3</td>\n",
       "      <td>0</td>\n",
       "      <td>5</td>\n",
       "    </tr>\n",
       "    <tr>\n",
       "      <th>3</th>\n",
       "      <td>2</td>\n",
       "      <td>1</td>\n",
       "      <td>8</td>\n",
       "    </tr>\n",
       "    <tr>\n",
       "      <th>4</th>\n",
       "      <td>3</td>\n",
       "      <td>1</td>\n",
       "      <td>10</td>\n",
       "    </tr>\n",
       "  </tbody>\n",
       "</table>\n",
       "</div>"
      ],
      "text/plain": [
       "   CoffeeCupsPerDay  Gender_code  CodingHours\n",
       "0                 2            0            8\n",
       "1                 2            0            3\n",
       "2                 3            0            5\n",
       "3                 2            1            8\n",
       "4                 3            1           10"
      ]
     },
     "execution_count": 130,
     "metadata": {},
     "output_type": "execute_result"
    }
   ],
   "source": [
    "prediction_df = df[['CoffeeCupsPerDay','Gender_code', 'CodingHours']]\n",
    "prediction_df.head()"
   ]
  },
  {
   "cell_type": "code",
   "execution_count": 131,
   "metadata": {},
   "outputs": [
    {
     "data": {
      "text/html": [
       "<div>\n",
       "<style scoped>\n",
       "    .dataframe tbody tr th:only-of-type {\n",
       "        vertical-align: middle;\n",
       "    }\n",
       "\n",
       "    .dataframe tbody tr th {\n",
       "        vertical-align: top;\n",
       "    }\n",
       "\n",
       "    .dataframe thead th {\n",
       "        text-align: right;\n",
       "    }\n",
       "</style>\n",
       "<table border=\"1\" class=\"dataframe\">\n",
       "  <thead>\n",
       "    <tr style=\"text-align: right;\">\n",
       "      <th></th>\n",
       "      <th>CoffeeCupsPerDay</th>\n",
       "      <th>Gender_code</th>\n",
       "      <th>CodingHours</th>\n",
       "    </tr>\n",
       "  </thead>\n",
       "  <tbody>\n",
       "    <tr>\n",
       "      <th>CoffeeCupsPerDay</th>\n",
       "      <td>1.000000</td>\n",
       "      <td>0.229175</td>\n",
       "      <td>0.313692</td>\n",
       "    </tr>\n",
       "    <tr>\n",
       "      <th>Gender_code</th>\n",
       "      <td>0.229175</td>\n",
       "      <td>1.000000</td>\n",
       "      <td>0.231018</td>\n",
       "    </tr>\n",
       "    <tr>\n",
       "      <th>CodingHours</th>\n",
       "      <td>0.313692</td>\n",
       "      <td>0.231018</td>\n",
       "      <td>1.000000</td>\n",
       "    </tr>\n",
       "  </tbody>\n",
       "</table>\n",
       "</div>"
      ],
      "text/plain": [
       "                  CoffeeCupsPerDay  Gender_code  CodingHours\n",
       "CoffeeCupsPerDay          1.000000     0.229175     0.313692\n",
       "Gender_code               0.229175     1.000000     0.231018\n",
       "CodingHours               0.313692     0.231018     1.000000"
      ]
     },
     "execution_count": 131,
     "metadata": {},
     "output_type": "execute_result"
    }
   ],
   "source": [
    "prediction_df.corr()"
   ]
  },
  {
   "cell_type": "code",
   "execution_count": 132,
   "metadata": {},
   "outputs": [
    {
     "data": {
      "text/plain": [
       "32.0"
      ]
     },
     "execution_count": 132,
     "metadata": {},
     "output_type": "execute_result"
    }
   ],
   "source": [
    "from sklearn.model_selection import train_test_split\n",
    "from sklearn.preprocessing import StandardScaler\n",
    "from sklearn.linear_model import LogisticRegression\n",
    "from sklearn.metrics import accuracy_score\n",
    "\n",
    "data = prediction_df.values\n",
    "X, y = data[:,1:3], data[:, 0]\n",
    "\n",
    "X_train, X_test, y_train, y_test = train_test_split(X, y, test_size=0.25, random_state=0)\n",
    "\n",
    "sc = StandardScaler()\n",
    "X_train = sc.fit_transform(X_train)\n",
    "X_test = sc.transform(X_test)\n",
    "\n",
    "classifier = LogisticRegression(random_state = 0)\n",
    "classifier.fit(X_train, y_train)\n",
    "\n",
    "y_pred =classifier.predict(X_test)\n",
    "\n",
    "accuracy_score(y_test, y_pred)*100"
   ]
  },
  {
   "cell_type": "code",
   "execution_count": 144,
   "metadata": {},
   "outputs": [
    {
     "name": "stdout",
     "output_type": "stream",
     "text": [
      "[0.34 0.34]\n",
      "Accuracy of Model with Cross Validation is: 34.0\n",
      "Broj kafa:  [2]\n"
     ]
    }
   ],
   "source": [
    "#Accuracy of Model with Cross Validation \n",
    "from sklearn.metrics import accuracy_score, confusion_matrix\n",
    "from sklearn import svm\n",
    "from sklearn.model_selection import cross_val_score\n",
    "from sklearn.model_selection import cross_val_predict\n",
    "\n",
    "data = prediction_df.values\n",
    "X, y = data[:,1:3], data[:, 0]\n",
    "\n",
    "model = svm.SVC(C=1, kernel='linear')\n",
    "accuracy = cross_val_score(model, X, y, scoring='accuracy', cv = 2)\n",
    "print(accuracy)\n",
    "#get the mean of each fold \n",
    "print(\"Accuracy of Model with Cross Validation is:\",accuracy.mean() * 100)\n",
    "\n",
    "model.fit(X, y)\n",
    "print('Broj kafa: ', model.predict([[1, 6]]))"
   ]
  },
  {
   "cell_type": "code",
   "execution_count": 134,
   "metadata": {},
   "outputs": [
    {
     "data": {
      "image/png": "[encoded data removed]",
      "text/plain": [
       "<Figure size 432x288 with 1 Axes>"
      ]
     },
     "metadata": {},
     "output_type": "display_data"
    }
   ],
   "source": [
    "from sklearn.model_selection import cross_val_predict\n",
    "from sklearn import linear_model\n",
    "\n",
    "lr = linear_model.LinearRegression()\n",
    "# cross_val_predict returns an array of the same size as `y` where each entry\n",
    "# is a prediction obtained by cross validation:\n",
    "predicted = cross_val_predict(lr, X, y, cv=10)\n",
    "\n",
    "fig, ax = plt.subplots()\n",
    "ax.scatter(y, predicted, edgecolors=(0, 0, 0))\n",
    "ax.plot([y.min(), y.max()], [y.min(), y.max()], 'k--', lw=4)\n",
    "ax.set_xlabel('Measured')\n",
    "ax.set_ylabel('Predicted')\n",
    "plt.show()"
   ]
  },
  {
   "cell_type": "code",
   "execution_count": 135,
   "metadata": {},
   "outputs": [
    {
     "name": "stdout",
     "output_type": "stream",
     "text": [
      "[0.32 0.34]\n",
      "Accuracy of LR Model with Cross Validation is: 33.0\n",
      "[0.26 0.32]\n",
      "Accuracy of KNN Model with Cross Validation is: 29.000000000000004\n",
      "[0.34 0.34]\n",
      "Accuracy of CART Model with Cross Validation is: 34.0\n",
      "[0.18 0.24]\n",
      "Accuracy of NB Model with Cross Validation is: 21.0\n",
      "[0.34 0.34]\n",
      "Accuracy of SVM Model with Cross Validation is: 34.0\n"
     ]
    },
    {
     "name": "stderr",
     "output_type": "stream",
     "text": [
      "C:\\Users\\Anja\\anaconda3\\lib\\site-packages\\sklearn\\linear_model\\_logistic.py:940: ConvergenceWarning: lbfgs failed to converge (status=1):\n",
      "STOP: TOTAL NO. of ITERATIONS REACHED LIMIT.\n",
      "\n",
      "Increase the number of iterations (max_iter) or scale the data as shown in:\n",
      "    https://scikit-learn.org/stable/modules/preprocessing.html\n",
      "Please also refer to the documentation for alternative solver options:\n",
      "    https://scikit-learn.org/stable/modules/linear_model.html#logistic-regression\n",
      "  extra_warning_msg=_LOGISTIC_SOLVER_CONVERGENCE_MSG)\n",
      "C:\\Users\\Anja\\anaconda3\\lib\\site-packages\\sklearn\\linear_model\\_logistic.py:940: ConvergenceWarning: lbfgs failed to converge (status=1):\n",
      "STOP: TOTAL NO. of ITERATIONS REACHED LIMIT.\n",
      "\n",
      "Increase the number of iterations (max_iter) or scale the data as shown in:\n",
      "    https://scikit-learn.org/stable/modules/preprocessing.html\n",
      "Please also refer to the documentation for alternative solver options:\n",
      "    https://scikit-learn.org/stable/modules/linear_model.html#logistic-regression\n",
      "  extra_warning_msg=_LOGISTIC_SOLVER_CONVERGENCE_MSG)\n"
     ]
    }
   ],
   "source": [
    "from pandas.plotting import scatter_matrix\n",
    "from sklearn import model_selection\n",
    "from sklearn.metrics import confusion_matrix\n",
    "from sklearn.metrics import classification_report\n",
    "from sklearn.metrics import accuracy_score\n",
    "from sklearn.linear_model import LogisticRegression\n",
    "from sklearn.tree import DecisionTreeClassifier\n",
    "from sklearn.neighbors import KNeighborsClassifier\n",
    "from sklearn.naive_bayes import GaussianNB\n",
    "from sklearn.svm import SVC\n",
    "\n",
    "data = prediction_df.values\n",
    "X, y = data[:,1:3], data[:, 0]\n",
    "\n",
    "X_train, X_test, y_train, y_test = model_selection.train_test_split(X, y, test_size = 0.2, random_state = 7)\n",
    "\n",
    "\n",
    "models = []\n",
    "models.append(('LR', LogisticRegression()))\n",
    "models.append(('KNN', KNeighborsClassifier()))\n",
    "models.append(('CART', DecisionTreeClassifier()))\n",
    "models.append(('NB', GaussianNB()))\n",
    "models.append(('SVM', SVC()))\n",
    "\n",
    "\n",
    "\n",
    "results = []\n",
    "names = []\n",
    "for name, model in models:\n",
    "    accuracy = cross_val_score(model, X, y, scoring='accuracy', cv = 2)\n",
    "    print(accuracy)\n",
    "    #get the mean of each fold \n",
    "    print(\"Accuracy of\", name, \"Model with Cross Validation is:\",accuracy.mean() * 100)\n",
    "    \n",
    "   "
   ]
  },
  {
   "cell_type": "markdown",
   "metadata": {},
   "source": [
    "### Application"
   ]
  },
  {
   "cell_type": "code",
   "execution_count": 159,
   "metadata": {},
   "outputs": [],
   "source": [
    "from sklearn.metrics import accuracy_score, confusion_matrix\n",
    "from sklearn import svm\n",
    "from sklearn.model_selection import cross_val_score\n",
    "from sklearn.model_selection import cross_val_predict\n",
    "\n",
    "data = prediction_df.values\n",
    "X, y = data[:,1:3], data[:, 0]\n",
    "model = svm.SVC(C=1, kernel='linear')\n",
    "accuracy = cross_val_score(model, X, y, scoring='accuracy', cv = 2)\n",
    "\n",
    "model.fit(X, y)\n",
    "\n",
    "\n",
    "root= tk.Tk()\n",
    "root.title(\"Predvidjanje\")\n",
    "root.iconbitmap(r'C:\\Users\\Anja\\Desktop\\Data mining Anja 36119\\favicon.ico')\n",
    "\n",
    "canvas1 = tk.Canvas(root, width = 500, height = 300)\n",
    "canvas1.pack()\n",
    "\n",
    "label1 = tk.Label(root, text='Type CodingHours: ')\n",
    "canvas1.create_window(100, 100, window=label1)\n",
    "\n",
    "entry1 = tk.Entry (root) # create 1st entry box\n",
    "canvas1.create_window(270, 100, window=entry1)\n",
    "\n",
    "label2 = tk.Label(root, text=' Type Gender_code (0 - female, 1 - male): ')\n",
    "canvas1.create_window(100, 120, window=label2)\n",
    "\n",
    "entry2 = tk.Entry (root) # create 2nd entry box\n",
    "canvas1.create_window(270, 120, window=entry2)\n",
    "\n",
    "def values(): \n",
    "    global New_CodingHours #our 1st input variable\n",
    "    New_CodingHours = float(entry1.get()) \n",
    "    \n",
    "    global New_Gender_code #our 2nd input variable\n",
    "    New_Gender_code = float(entry2.get()) \n",
    "    \n",
    "    Prediction_result  = ('Predicted CoffeeCupsPerDay: ', model.predict([[New_CodingHours ,New_Gender_code]]))\n",
    "    label_Prediction = tk.Label(root, text= Prediction_result, bg='#c7f2fc')\n",
    "    canvas1.create_window(260, 190, window=label_Prediction)\n",
    "\n",
    "button1 = tk.Button (root, text='Predict CoffeeCupsPerDay',command=values, bg='#c7f2fc') \n",
    "canvas1.create_window(270, 150, window=button1)\n",
    "\n",
    "#plot 1st scatter \n",
    "figure3 = plt.Figure(figsize=(5,4), dpi=100)\n",
    "ax3 = figure3.add_subplot(111)\n",
    "ax3.scatter(prediction_df['CodingHours'].astype(float),df['CoffeeCupsPerDay'].astype(float), color = 'r')\n",
    "scatter3 = FigureCanvasTkAgg(figure3, root) \n",
    "scatter3.get_tk_widget().pack(side=tk.RIGHT, fill=tk.BOTH)\n",
    "ax3.legend(['CoffeeCupsPerDay']) \n",
    "ax3.set_xlabel('CodingHours')\n",
    "ax3.set_title('CodingHours Vs. CoffeeCupsPerDay')\n",
    "\n",
    "#plot 2nd scatter \n",
    "figure4 = plt.Figure(figsize=(5,4), dpi=100)\n",
    "ax4 = figure4.add_subplot(111)\n",
    "ax4.scatter(df['Gender_code'].astype(float),df['CoffeeCupsPerDay'].astype(float), color = 'g')\n",
    "scatter4 = FigureCanvasTkAgg(figure4, root) \n",
    "scatter4.get_tk_widget().pack(side=tk.RIGHT, fill=tk.BOTH)\n",
    "ax4.legend(['CoffeeCupsPerDay']) \n",
    "ax4.set_xlabel('Gender_code')\n",
    "ax4.set_title('Gender_code Vs. CoffeeCupsPerDay')\n",
    "\n",
    "root.mainloop()"
   ]
  }
 ],
 "metadata": {
  "kernelspec": {
   "display_name": "Python 3",
   "language": "python",
   "name": "python3"
  },
  "language_info": {
   "codemirror_mode": {
    "name": "ipython",
    "version": 3
   },
   "file_extension": ".py",
   "mimetype": "text/x-python",
   "name": "python",
   "nbconvert_exporter": "python",
   "pygments_lexer": "ipython3",
   "version": "3.7.6"
  }
 },
 "nbformat": 4,
 "nbformat_minor": 4
}
